{
  "cells": [
  {
   "cell_type": "markdown",
   "id": "b22f597d-ec17-4ab9-8933-28e92af2438d",
   "metadata": {},
   "source": [
    "# DeePMD-kit Quick Start Tutorial"
   ]
  },
  {
   "cell_type": "markdown",
   "id": "7a41db5f",
   "metadata": {},
   "source": [
    "<a href=\"https://nb.bohrium.dp.tech/detail/52879961357\" target=\"_blank\"><img src=\"https://cdn.dp.tech/bohrium/web/static/images/open-in-bohrium.svg\" alt=\"Open In Bohrium\"/></a>"
   ]
  },
  {
   "cell_type": "markdown",
   "id": "85b62e3d-dfae-402f-96a5-5672367d2d17",
   "metadata": {},
   "source": [
    "<div style=\"color:black; background-color:#FFF3E9; border: 1px solid #FFE0C3; border-radius: 10px; margin-bottom:1rem\">\n",
    "    <p style=\"margin:1rem; padding-left: 1rem; line-height: 2.5;\">\n",
    "        ©️ <b><i>Copyright 2024 @ Authors</i></b><br/>\n",
    "        📖 <b>Getting Started Guide</b><br/>\n",
    "        Licensing Agreement: This work is licensed under the <a rel=\"license\" href=\"http://creativecommons.org/licenses/by-nc-sa/4.0/\">Creative Commons Attribution-NonCommercial-ShareAlike 4.0 International License</a>.<br/><br/>\n",
    "       This document can be executed directly on the <a style=\"font-weight:bold; color:rgb(85, 91, 228)\" href=\"https://bohrium-doc.dp.tech/docs/userguide/Notebook\" target=\"_blank\"> Bohrium Notebook</a>. To begin,you can click the  <span style=\"background-color:rgb(85, 91, 228); color:white; padding: 3px; border-radius: 5px;box-shadow: 2px 2px 3px rgba(0, 0, 0, 0.3); font-size:0.75rem;\">Open in Bohrium</span>  button above to quickly run this document in Bohrium. <br/><br/>\n",
    "       After opening Bohrium Notebook, click the button <span style=\"background-color:rgb(85, 91, 228); color:white; padding: 3px; border-radius: 5px;box-shadow: 2px 2px 3px rgba(0, 0, 0, 0.3); font-size:0.75rem;\">connect</span> .We have already set up the recommended image and the recommended machine type for you.\n",
    "    </p>\n",
    "</div>"
   ]
  },
  {
   "cell_type": "markdown",
   "id": "dbab8963",
   "metadata": {},
   "source": [
    "**This is a quick start guide for \"Deep Potential\" molecular dynamics using DeePMD-kit, through which you can quickly understand the paradigm cycle that DeePMD-kit operates in and apply it to your projects.**\n",
    "<p>Deep Potential is the convergence of machine learning and physical principles, presenting a new computational paradigm as shown in the figure below.</p>\n",
    "<div style=\"text-align: center;\">\n",
    "    <img src=\"https://bohrium-example.oss-cn-zhangjiakou.aliyuncs.com/notebook/static/mdkit/DPMD1.svg\" alt=\"Fig2\" style=\"zoom: 75%;\">\n",
    "    <p style='font-size:0.8rem; font-weight:bold'>Figure | A new computational paradigm, composed of Molecular Modeling, Machine Learning, and High-Performance Computing (HPC).</p>\n",
    "</div>\n"
   ]
  },
  {
   "cell_type": "markdown",
   "id": "f4416190-479c-4b2f-9e08-33690bc4941d",
   "metadata": {},
   "source": [
    "## Task\n",
    "\n",
    "> **Mastering the paradigm cycle of using DeePMD-kit to establish deep potential molecular dynamics models, and following a complete case to learn how to apply it to molecular dynamics tasks.**\n",
    "\n",
    "By the end of this tutorial, you will be able to:\n",
    "\n",
    "* Prepare the formataive dataset and running scripts for training with DeePMD-kit;\n",
    "* Train, freeze, and test DeePMD-kit models;\n",
    "* Use DeePMD-kit in Lammps for calculations;\n",
    "\n",
    "Work through this tutorial. It will take you 20 minutes, max!"
   ]
  },
  {
   "cell_type": "markdown",
   "id": "8e6587cb-ba6e-42ba-a139-0595fc7f79d7",
   "metadata": {},
   "source": [
    "\n",
    "```{contents} Table of Contents\n",
    ":depth: 3\n",
    "```"
   ]
  },
  {
   "cell_type": "markdown",
   "id": "42afcb0e",
   "metadata": {},
   "source": [
    "## Background\n",
    "\n",
    "In this tutorial, we will take the gaseous methane molecule as an example to provide a detailed introduction to the training and application of the Deep Potential (DP) model.\n",
    "\n",
    "DeePMD-kit is a software tool that employs neural networks to fit potential energy models based on first-principles data for molecular dynamics simulations. Without manual intervention, it can end-to-end transform the data provided by users into a deep potential model in a matter of hours. This model can seamlessly integrate with common molecular dynamics simulation software (like LAMMPS, OpenMM, and GROMACS).\n",
    "\n",
    "DeePMD-kit significantly elevates the limits of molecular dynamics through high-performance computing and machine learning, achieving system scales of up to hundreds of millions of atoms while still maintaining the high accuracy of \"ab initio\" calculations. The simulation time scale is improved by at least 1000 times compared to traditional methods. Its achievements earned the 2020 ACM Gordon Bell Prize, one of the highest honors in the field of high-performance computing, and it has been used by over a thousand research groups in physics, chemistry, materials science, biology, and other fields globally.\n",
    "\n",
    "<img src=\"https://bohrium-example.oss-cn-zhangjiakou.aliyuncs.com/notebook/static/mdkit/DPMD_Time_and_Size_Scales.svg\" alt=\"Fig1\" style=\"zoom: 75%;\">\n",
    "\n",
    "For more detailed usage, you can refer to the [DeePMD-kit’s documentation](https://docs.deepmodeling.org/projects/deepmd/en/master/index.html) as a comprehensive reference.\n",
    "\n",
    "In this case, the Deep Potential (DP) model was generated using the **DeePMD-kit package**.\n",
    "\n"
   ]
  },
  {
   "cell_type": "markdown",
   "id": "275d9d23",
   "metadata": {},
   "source": [
    "## Practice"
   ]
  },
  {
   "cell_type": "markdown",
   "id": "a9be4db1",
   "metadata": {},
   "source": [
    "### Data Preparation\n",
    "\n",
    "We have prepared the initial data for $CH_4$ required to run DeePMD-kit computations and placed it in the `DeePMD-kit_Tutorial` folder. You can view the corresponding files by clicking on the dataset on the left side:"
   ]
  },
  {
   "cell_type": "code",
   "execution_count": 2,
   "id": "125c96ef",
   "metadata": {},
   "outputs": [
    {
     "name": "stdout",
     "output_type": "stream",
     "text": [
      "Dataset is already downloaded and extracted.\n",
      "Current path is: /personal\n"
     ]
    }
   ],
   "source": [
    "import os\n",
    "\n",
    "# Define the dataset URL and the paths\n",
    "dataset_url = \"https://bohrium-api.dp.tech/ds-dl/DeePMD-kit-Tutorial-a8z5-v1.zip\"\n",
    "zip_file_name = \"DeePMD-kit-Tutorial-a8z5-v1.zip\"\n",
    "dataset_directory = \"DeePMD-kit_Tutorial\"\n",
    "local_zip_path = f\"/personal/{zip_file_name}\"\n",
    "extract_path = \"/personal/\"\n",
    "\n",
    "# Check if the dataset directory exists to avoid re-downloading and re-extracting\n",
    "if not os.path.isdir(f\"{extract_path}{dataset_directory}\"):\n",
    "    # Download and extract if not exists\n",
    "    if not os.path.isfile(local_zip_path):\n",
    "        print(\"Downloading dataset...\")\n",
    "        !wget -q -O {local_zip_path} {dataset_url}\n",
    "\n",
    "    print(\"Extracting dataset...\")\n",
    "    !unzip -q -n {local_zip_path} -d {extract_path}\n",
    "else:\n",
    "    print(\"Dataset is already downloaded and extracted.\")\n",
    "\n",
    "# Change the current working directory\n",
    "os.chdir(f\"{extract_path}\")\n",
    "print(f\"Current path is: {os.getcwd()}\")"
   ]
  },
  {
   "cell_type": "markdown",
   "id": "a265a0d9",
   "metadata": {},
   "source": [
    "Let's take a look at the downloaded DeePMD-kit_Tutorial folder."
   ]
  },
  {
   "cell_type": "code",
   "execution_count": 12,
   "id": "2ea12f86",
   "metadata": {},
   "outputs": [
    {
     "name": "stdout",
     "output_type": "stream",
     "text": [
      "\u001b[01;34mDeePMD-kit_Tutorial\u001b[0m\n",
      "├── \u001b[01;34m00.data\u001b[0m\n",
      "├── \u001b[01;34m01.train\u001b[0m\n",
      "├── \u001b[01;34m01.train.finished\u001b[0m\n",
      "├── \u001b[01;34m02.lmp\u001b[0m\n",
      "└── \u001b[01;34m02.lmp.finished\u001b[0m\n",
      "\n",
      "5 directories, 0 files\n"
     ]
    }
   ],
   "source": [
    "! tree DeePMD-kit_Tutorial -L 1"
   ]
  },
  {
   "cell_type": "markdown",
   "id": "1da4b858",
   "metadata": {},
   "source": [
    "There are 3 subfolders under the DeePMD-kit_Tutorial folder: 00.data, 01.train, and 02.lmp.\n",
    "\n",
    "- The 00.data folder is used to store training and testing data.\n",
    "- The 01.train folder contains example scripts for training models using DeePMD-kit.\n",
    "- The 01.train.finished folder includes the complete results of the training process.\n",
    "- The 02.lmp folder contains example scripts for molecular dynamics simulations using LAMMPS.\n",
    "\n",
    "Let's first take a look at the DeePMD-kit_Tutorial/00.data folder."
   ]
  },
  {
   "cell_type": "code",
   "execution_count": 13,
   "id": "509f7efe",
   "metadata": {},
   "outputs": [
    {
     "name": "stdout",
     "output_type": "stream",
     "text": [
      "\u001b[01;34mDeePMD-kit_Tutorial/00.data\u001b[0m\n",
      "├── \u001b[01;34mabacus_md\u001b[0m\n",
      "├── \u001b[01;34mtraining_data\u001b[0m\n",
      "└── \u001b[01;34mvalidation_data\u001b[0m\n",
      "\n",
      "3 directories, 0 files\n"
     ]
    }
   ],
   "source": [
    "! tree DeePMD-kit_Tutorial/00.data -L 1"
   ]
  },
  {
   "cell_type": "markdown",
   "id": "8373a3a4",
   "metadata": {},
   "source": [
    "DeePMD-kit's training data originates from first-principles calculation data, including atomic types, simulation cells, atomic coordinates, atomic forces, system energies, and virials.\n",
    "\n",
    "<div align=\"left\" style=\"margin:1.5rem\"><img src=\"https://ars.els-cdn.com/content/image/1-s2.0-S0010465518300882-gr1_lrg.jpg\" alt=\"image-20230116161737203\" style=\"zoom: 25%;\"></div>\n",
    "\n",
    "In the *00.data* folder, there is only the *abacus_md* folder, which contains data obtained through *ab initio* Molecular Dynamics (AIMD) simulations using ABACUS. In this tutorial, we have already completed the *ab initio* molecular dynamics calculations for the methane molecule for you.\n",
    "\n",
    "Detailed information about ABACUS can be found in its [documentation](https://abacus.deepmodeling.com/en/latest/). \n",
    "\n",
    "DeePMD-kit uses a compressed data format. All training data should first be converted into this format before they can be used in DeePMD-kit. This data format is explained in detail in the DeePMD-kit manual, which can be found on [DeePMD-kit's Github](http://www.github.com/deepmodeling/deepmd-kit).\n",
    "\n",
    "We provide a convenient tool **dpdata**, which can convert data generated by VASP, CP2K, Gaussian, Quantum Espresso, ABACUS, and LAMMPS into DeePMD-kit's compressed format.\n",
    "\n",
    "A snapshot of a molecular system that contains computational data information is called a frame. A data system comprises many frames sharing the same number of atoms and atom types.\n",
    "\n",
    "For example, a molecular dynamics trajectory can be converted into a data system, where each timestep corresponds to one frame in the system.\n"
   ]
  },
  {
   "cell_type": "markdown",
   "id": "e62f0115",
   "metadata": {},
   "source": [
    "Next, we use the dpdata tool to randomly split the data in abacus_md into training and validation data.\n"
   ]
  },
  {
   "cell_type": "code",
   "execution_count": 4,
   "id": "b5fbc838",
   "metadata": {},
   "outputs": [
    {
     "name": "stdout",
     "output_type": "stream",
     "text": [
      "# the data contains 201 frames\n",
      "# the training data contains 161 frames\n",
      "# the validation data contains 40 frames\n"
     ]
    }
   ],
   "source": [
    "import dpdata\n",
    "import numpy as np\n",
    "\n",
    "# load data of abacus/md format\n",
    "data = dpdata.LabeledSystem(\"DeePMD-kit_Tutorial/00.data/abacus_md\", fmt=\"abacus/md\")\n",
    "print(\"# the data contains %d frames\" % len(data))\n",
    "\n",
    "# random choose 40 index for validation_data\n",
    "rng = np.random.default_rng()\n",
    "index_validation = rng.choice(201, size=40, replace=False)\n",
    "\n",
    "# other indexes are training_data\n",
    "index_training = list(set(range(201)) - set(index_validation))\n",
    "data_training = data.sub_system(index_training)\n",
    "data_validation = data.sub_system(index_validation)\n",
    "\n",
    "# all training data put into directory:\"training_data\"\n",
    "data_training.to_deepmd_npy(\"DeePMD-kit_Tutorial/00.data/training_data\")\n",
    "\n",
    "# all validation data put into directory:\"validation_data\"\n",
    "data_validation.to_deepmd_npy(\"DeePMD-kit_Tutorial/00.data/validation_data\")\n",
    "\n",
    "print(\"# the training data contains %d frames\" % len(data_training))\n",
    "print(\"# the validation data contains %d frames\" % len(data_validation))"
   ]
  },
  {
   "cell_type": "markdown",
   "id": "98719865-ab3d-4440-8c14-78a1c253c3a6",
   "metadata": {},
   "source": [
    "As you can see, 161 frames are picked as training data, and the other 40 frames are validation dat.\n",
    "\n",
    "Let's take another look at the 00.data folder, where new files have been generated, which are the training and validation sets required for Deep Potential training with DeePMD-kit.\n"
   ]
  },
  {
   "cell_type": "code",
   "execution_count": 15,
   "id": "e5befaf5-c464-4e8f-8544-a2634f5fd1d2",
   "metadata": {},
   "outputs": [
    {
     "name": "stdout",
     "output_type": "stream",
     "text": [
      "\u001b[01;34mDeePMD-kit_Tutorial/00.data/\u001b[0m\n",
      "├── \u001b[01;34mabacus_md\u001b[0m\n",
      "├── \u001b[01;34mtraining_data\u001b[0m\n",
      "└── \u001b[01;34mvalidation_data\u001b[0m\n",
      "\n",
      "3 directories, 0 files\n"
     ]
    }
   ],
   "source": [
    "! tree DeePMD-kit_Tutorial/00.data/ -L 1"
   ]
  },
  {
   "cell_type": "code",
   "execution_count": 16,
   "id": "70cc9898",
   "metadata": {},
   "outputs": [
    {
     "name": "stdout",
     "output_type": "stream",
     "text": [
      "\u001b[01;34mDeePMD-kit_Tutorial/00.data/training_data\u001b[0m\n",
      "├── \u001b[01;34mset.000\u001b[0m\n",
      "├── \u001b[00mtype.raw\u001b[0m\n",
      "└── \u001b[00mtype_map.raw\u001b[0m\n",
      "\n",
      "1 directory, 2 files\n"
     ]
    }
   ],
   "source": [
    "! tree DeePMD-kit_Tutorial/00.data/training_data -L 1"
   ]
  },
  {
   "cell_type": "markdown",
   "id": "542b24fd",
   "metadata": {},
   "source": [
    "The functions of these files are as follows:\n",
    "\n",
    "- set.000: It is a directory that contains compressed format data (NumPy compressed arrays).\n",
    "- type.raw: It is a file that contains the types of atoms (represented as integers).\n",
    "- type_map.raw: It is a file that contains the names of the types of atoms.\n",
    "\n",
    "Let's take a look at these files."
   ]
  },
  {
   "cell_type": "markdown",
   "id": "99770e51-4d9e-44db-bb93-1c7061c8862c",
   "metadata": {},
   "source": [
    "Let's have a look at `type.raw`:"
   ]
  },
  {
   "cell_type": "code",
   "execution_count": 13,
   "id": "a686585c-3e5b-4a5c-9cc7-4db7759b74b2",
   "metadata": {},
   "outputs": [
    {
     "name": "stdout",
     "output_type": "stream",
     "text": [
      "0\n",
      "0\n",
      "0\n",
      "0\n",
      "1\n"
     ]
    }
   ],
   "source": [
    "! cat DeePMD-kit_Tutorial/00.data/training_data/type.raw "
   ]
  },
  {
   "cell_type": "markdown",
   "id": "b5357cc5-9cdd-4c52-a611-a84cee739fb0",
   "metadata": {},
   "source": [
    "This tells us there are 5 atoms in this example, 4 atoms represented by type \"0\", and 1 atom represented by type \"1\".\n",
    "Sometimes one needs to map the integer types to atom name. The mapping can be given by the file `type_map.raw`"
   ]
  },
  {
   "cell_type": "code",
   "execution_count": 14,
   "id": "6216f02d-3a21-481f-99da-3f23b438a7c0",
   "metadata": {},
   "outputs": [
    {
     "name": "stdout",
     "output_type": "stream",
     "text": [
      "H\n",
      "C\n"
     ]
    }
   ],
   "source": [
    "! cat DeePMD-kit_Tutorial/00.data/training_data/type_map.raw"
   ]
  },
  {
   "cell_type": "markdown",
   "id": "1196aa0f-22c5-4b96-8640-c82068fa7828",
   "metadata": {},
   "source": [
    "This tells us the type \"0\" is named by \"H\", and the type \"1\" is named by \"C\".\n",
    "\n",
    "More detailed documentation on using dpdata for data conversion can be found [here](../data/data-conv.html)"
   ]
  },
  {
   "cell_type": "markdown",
   "id": "ac6c969b-10cb-49f0-9b84-7dc9ffa38c61",
   "metadata": {},
   "source": [
    "### Prepare input script\n",
    "Once the data preparation is done, we can go on with training. Now go to the training directory.\n",
    "DeePMD-kit requires a `json` format file to specify parameters for training. "
   ]
  },
  {
   "cell_type": "code",
   "execution_count": null,
   "id": "749c24f4",
   "metadata": {},
   "outputs": [],
   "source": [
    "# Checke dargs version and Install\n",
    "!pip show dargs || pip install --upgrade dargs"
   ]
  },
  {
   "cell_type": "code",
   "execution_count": 3,
   "id": "995c0b91",
   "metadata": {},
   "outputs": [
    {
     "data": {
      "text/html": [
       "<style>\n",
       ".dargs-codeblock {\n",
       "  width: 100%;\n",
       "  background-color: #f9f9f9;\n",
       "  border-color: #f9f9f9;\n",
       "  color: #000000;\n",
       "}\n",
       ".dargs-codeblock::before {\n",
       "  counter-reset: listing;\n",
       "}\n",
       ".dargs-codeblock code.dargs-linebegin {\n",
       "  counter-increment: listing;\n",
       "}\n",
       ".dargs-codeblock code.dargs-linebegin::before {\n",
       "  content: counter(listing) \" \";\n",
       "  display: inline-block;\n",
       "  width: 2em;\n",
       "  padding-left: auto;\n",
       "  margin-left: auto;\n",
       "  text-align: right;\n",
       "  color: #6e7781;\n",
       "}\n",
       ".dargs-codeblock code.dargs-code {\n",
       "  padding-left: 0;\n",
       "  padding-right: 0;\n",
       "  margin-left: 0;\n",
       "  margin-right: 0;\n",
       "  background-color: #f9f9f9;\n",
       "  border-color: #f9f9f9;\n",
       "  color: #000000;\n",
       "}\n",
       ".dargs-codeblock .dargs-key {\n",
       "  position: relative;\n",
       "  display: inline-block;\n",
       "  border-bottom: 1px dotted black;\n",
       "}\n",
       ".dargs-codeblock .dargs-key code.dargs-code {\n",
       "  color: #0550ae;\n",
       "}\n",
       ".dargs-codeblock .dargs-key .dargs-doc {\n",
       "  visibility: hidden;\n",
       "  width: 600px;\n",
       "  background-color: black;\n",
       "  color: #fff;\n",
       "  padding: 1em 1em;\n",
       "  border-radius: 6px;\n",
       "  position: absolute;\n",
       "  z-index: 1;\n",
       "}\n",
       ".dargs-codeblock .dargs-key:hover .dargs-doc {\n",
       "  visibility: visible;\n",
       "}\n",
       ".dargs-codeblock .dargs-key .dargs-doc .dargs-doc-code {\n",
       "  color: #bbbbff;\n",
       "}\n",
       "</style>\n",
       "<div class=\"dargs-codeblock\"><code class=\"dargs-code dargs-linebegin\"></code><code class=\"dargs-code\">{</code><br/><code class=\"dargs-code dargs-linebegin\">&nbsp;&nbsp;</code><span><code class=\"dargs-code\">\"_comment\"</code></span><code class=\"dargs-code\">: </code><code class=\"dargs-code\">\"that's all\",</code><br/><code class=\"dargs-code dargs-linebegin\">&nbsp;&nbsp;</code><span class=\"dargs-key\"><code class=\"dargs-code\">\"model\"</code><span class=\"dargs-doc\">model: <br/>    type: <span class=\"dargs-doc-code\">dict</span></span></span><code class=\"dargs-code\">: </code><code class=\"dargs-code\">{</code><br/><code class=\"dargs-code dargs-linebegin\">&nbsp;&nbsp;&nbsp;&nbsp;</code><span class=\"dargs-key\"><code class=\"dargs-code\">\"type_map\"</code><span class=\"dargs-doc\">type_map: <br/>    type: <span class=\"dargs-doc-code\">typing.List[str]</span>, optional<hr/>A list of strings. Give the name to each type of atoms. It is noted that the number of atom type of training system must be less than 128 in a GPU environment. If not given, type.raw in each system should use the same type indexes, and type_map.raw will take no effect.</span></span><code class=\"dargs-code\">: </code><code class=\"dargs-code\">[<br/><code class=\"dargs-code dargs-linebegin\">&nbsp;&nbsp;&nbsp;&nbsp;</code>  \"H\",<br/><code class=\"dargs-code dargs-linebegin\">&nbsp;&nbsp;&nbsp;&nbsp;</code>  \"C\"<br/><code class=\"dargs-code dargs-linebegin\">&nbsp;&nbsp;&nbsp;&nbsp;</code>],</code><br/><code class=\"dargs-code dargs-linebegin\">&nbsp;&nbsp;&nbsp;&nbsp;</code><span class=\"dargs-key\"><code class=\"dargs-code\">\"descriptor\"</code><span class=\"dargs-doc\">descriptor: <br/>    type: <span class=\"dargs-doc-code\">dict</span><hr/>The descriptor of atomic environment.</span></span><code class=\"dargs-code\">: </code><code class=\"dargs-code\">{</code><br/><code class=\"dargs-code dargs-linebegin\">&nbsp;&nbsp;&nbsp;&nbsp;&nbsp;&nbsp;</code><span class=\"dargs-key\"><code class=\"dargs-code\">\"type\"</code><span class=\"dargs-doc\">type:<br/>type: <span class=\"dargs-doc-code\">str</span><hr/>The type of the descritpor. See explanation below. <br/>- <span class=\"dargs-doc-code\">loc_frame</span>: Defines a local frame at each atom, and the compute the descriptor as local coordinates under this frame.<br/>- <span class=\"dargs-doc-code\">se_e2_a</span>: Used by the smooth edition of Deep Potential. The full relative coordinates are used to construct the descriptor.<br/>- <span class=\"dargs-doc-code\">se_e2_r</span>: Used by the smooth edition of Deep Potential. Only the distance between atoms is used to construct the descriptor.<br/>- <span class=\"dargs-doc-code\">se_e3</span>: Used by the smooth edition of Deep Potential. The full relative coordinates are used to construct the descriptor. Three-body embedding will be used by this descriptor.<br/>- <span class=\"dargs-doc-code\">se_a_tpe</span>: Used by the smooth edition of Deep Potential. The full relative coordinates are used to construct the descriptor. Type embedding will be used by this descriptor.<br/>- <span class=\"dargs-doc-code\">se_atten</span>: Used by the smooth edition of Deep Potential. The full relative coordinates are used to construct the descriptor. Attention mechanism will be used by this descriptor.<br/>- <span class=\"dargs-doc-code\">se_atten_v2</span>: Used by the smooth edition of Deep Potential. The full relative coordinates are used to construct the descriptor. Attention mechanism with new modifications will be used by this descriptor.<br/>- <span class=\"dargs-doc-code\">se_a_mask</span>: Used by the smooth edition of Deep Potential. It can accept a variable number of atoms in a frame (Non-PBC system). <i>aparam</i> are required as an indicator matrix for the real/virtual sign of input atoms. <br/>- <span class=\"dargs-doc-code\">hybrid</span>: Concatenate of a list of descriptors as a new descriptor.</span></span><code class=\"dargs-code\">: </code><code class=\"dargs-code\">\"se_e2_a\",</code><br/><code class=\"dargs-code dargs-linebegin\">&nbsp;&nbsp;&nbsp;&nbsp;&nbsp;&nbsp;</code><span class=\"dargs-key\"><code class=\"dargs-code\">\"sel\"</code><span class=\"dargs-doc\">sel: <br/>    type: <span class=\"dargs-doc-code\">str</span> | <span class=\"dargs-doc-code\">typing.List[int]</span>, optional, default: <span class=\"dargs-doc-code\">auto</span><hr/>This parameter set the number of selected neighbors for each type of atom. It can be:<br/>    - <span class=\"dargs-doc-code\">List[int]</span>. The length of the list should be the same as the number of atom types in the system. <span class=\"dargs-doc-code\">sel[i]</span> gives the selected number of type-i neighbors. <span class=\"dargs-doc-code\">sel[i]</span> is recommended to be larger than the maximally possible number of type-i neighbors in the cut-off radius. It is noted that the total sel value must be less than 4096 in a GPU environment.<br/>    - <span class=\"dargs-doc-code\">str</span>. Can be \"auto:factor\" or \"auto\". \"factor\" is a float number larger than 1. This option will automatically determine the <span class=\"dargs-doc-code\">sel</span>. In detail it counts the maximal number of neighbors with in the cutoff radius for each type of neighbor, then multiply the maximum by the \"factor\". Finally the number is wraped up to 4 divisible. The option \"auto\" is equivalent to \"auto:1.1\".</span></span><code class=\"dargs-code\">: </code><code class=\"dargs-code\">\"auto\",</code><br/><code class=\"dargs-code dargs-linebegin\">&nbsp;&nbsp;&nbsp;&nbsp;&nbsp;&nbsp;</code><span class=\"dargs-key\"><code class=\"dargs-code\">\"rcut_smth\"</code><span class=\"dargs-doc\">rcut_smth: <br/>    type: <span class=\"dargs-doc-code\">float</span>, optional, default: <span class=\"dargs-doc-code\">0.5</span><hr/>Where to start smoothing. For example the 1/r term is smoothed from <span class=\"dargs-doc-code\">rcut</span> to <span class=\"dargs-doc-code\">rcut_smth</span></span></span><code class=\"dargs-code\">: </code><code class=\"dargs-code\">0.5,</code><br/><code class=\"dargs-code dargs-linebegin\">&nbsp;&nbsp;&nbsp;&nbsp;&nbsp;&nbsp;</code><span class=\"dargs-key\"><code class=\"dargs-code\">\"rcut\"</code><span class=\"dargs-doc\">rcut: <br/>    type: <span class=\"dargs-doc-code\">float</span>, optional, default: <span class=\"dargs-doc-code\">6.0</span><hr/>The cut-off radius.</span></span><code class=\"dargs-code\">: </code><code class=\"dargs-code\">6.0,</code><br/><code class=\"dargs-code dargs-linebegin\">&nbsp;&nbsp;&nbsp;&nbsp;&nbsp;&nbsp;</code><span class=\"dargs-key\"><code class=\"dargs-code\">\"neuron\"</code><span class=\"dargs-doc\">neuron: <br/>    type: <span class=\"dargs-doc-code\">typing.List[int]</span>, optional, default: <span class=\"dargs-doc-code\">[10, 20, 40]</span><hr/>Number of neurons in each hidden layers of the embedding net. When two layers are of the same size or one layer is twice as large as the previous layer, a skip connection is built.</span></span><code class=\"dargs-code\">: </code><code class=\"dargs-code\">[<br/><code class=\"dargs-code dargs-linebegin\">&nbsp;&nbsp;&nbsp;&nbsp;&nbsp;&nbsp;</code>  25,<br/><code class=\"dargs-code dargs-linebegin\">&nbsp;&nbsp;&nbsp;&nbsp;&nbsp;&nbsp;</code>  50,<br/><code class=\"dargs-code dargs-linebegin\">&nbsp;&nbsp;&nbsp;&nbsp;&nbsp;&nbsp;</code>  100<br/><code class=\"dargs-code dargs-linebegin\">&nbsp;&nbsp;&nbsp;&nbsp;&nbsp;&nbsp;</code>],</code><br/><code class=\"dargs-code dargs-linebegin\">&nbsp;&nbsp;&nbsp;&nbsp;&nbsp;&nbsp;</code><span class=\"dargs-key\"><code class=\"dargs-code\">\"resnet_dt\"</code><span class=\"dargs-doc\">resnet_dt: <br/>    type: <span class=\"dargs-doc-code\">bool</span>, optional, default: <span class=\"dargs-doc-code\">False</span><hr/>Whether to use a \"Timestep\" in the skip connection</span></span><code class=\"dargs-code\">: </code><code class=\"dargs-code\">false,</code><br/><code class=\"dargs-code dargs-linebegin\">&nbsp;&nbsp;&nbsp;&nbsp;&nbsp;&nbsp;</code><span class=\"dargs-key\"><code class=\"dargs-code\">\"axis_neuron\"</code><span class=\"dargs-doc\">axis_neuron: <br/>    type: <span class=\"dargs-doc-code\">int</span>, optional, default: <span class=\"dargs-doc-code\">4</span>, alias: <i>n_axis_neuron</i><hr/>Size of the submatrix of G (embedding matrix).</span></span><code class=\"dargs-code\">: </code><code class=\"dargs-code\">16,</code><br/><code class=\"dargs-code dargs-linebegin\">&nbsp;&nbsp;&nbsp;&nbsp;&nbsp;&nbsp;</code><span class=\"dargs-key\"><code class=\"dargs-code\">\"seed\"</code><span class=\"dargs-doc\">seed: <br/>    type: <span class=\"dargs-doc-code\">NoneType</span> | <span class=\"dargs-doc-code\">int</span>, optional<hr/>Random seed for parameter initialization</span></span><code class=\"dargs-code\">: </code><code class=\"dargs-code\">1,</code><br/><code class=\"dargs-code dargs-linebegin\">&nbsp;&nbsp;&nbsp;&nbsp;&nbsp;&nbsp;</code><span><code class=\"dargs-code\">\"_comment\"</code></span><code class=\"dargs-code\">: </code><code class=\"dargs-code\">\" that's all\"</code><br/><code class=\"dargs-code dargs-linebegin\">&nbsp;&nbsp;&nbsp;&nbsp;</code><code class=\"dargs-code\">},</code><br/><code class=\"dargs-code dargs-linebegin\">&nbsp;&nbsp;&nbsp;&nbsp;</code><span class=\"dargs-key\"><code class=\"dargs-code\">\"fitting_net\"</code><span class=\"dargs-doc\">fitting_net: <br/>    type: <span class=\"dargs-doc-code\">dict</span><hr/>The fitting of physical properties.</span></span><code class=\"dargs-code\">: </code><code class=\"dargs-code\">{</code><br/><code class=\"dargs-code dargs-linebegin\">&nbsp;&nbsp;&nbsp;&nbsp;&nbsp;&nbsp;</code><span class=\"dargs-key\"><code class=\"dargs-code\">\"neuron\"</code><span class=\"dargs-doc\">neuron: <br/>    type: <span class=\"dargs-doc-code\">typing.List[int]</span>, optional, default: <span class=\"dargs-doc-code\">[120, 120, 120]</span>, alias: <i>n_neuron</i><hr/>The number of neurons in each hidden layers of the fitting net. When two hidden layers are of the same size, a skip connection is built.</span></span><code class=\"dargs-code\">: </code><code class=\"dargs-code\">[<br/><code class=\"dargs-code dargs-linebegin\">&nbsp;&nbsp;&nbsp;&nbsp;&nbsp;&nbsp;</code>  240,<br/><code class=\"dargs-code dargs-linebegin\">&nbsp;&nbsp;&nbsp;&nbsp;&nbsp;&nbsp;</code>  240,<br/><code class=\"dargs-code dargs-linebegin\">&nbsp;&nbsp;&nbsp;&nbsp;&nbsp;&nbsp;</code>  240<br/><code class=\"dargs-code dargs-linebegin\">&nbsp;&nbsp;&nbsp;&nbsp;&nbsp;&nbsp;</code>],</code><br/><code class=\"dargs-code dargs-linebegin\">&nbsp;&nbsp;&nbsp;&nbsp;&nbsp;&nbsp;</code><span class=\"dargs-key\"><code class=\"dargs-code\">\"resnet_dt\"</code><span class=\"dargs-doc\">resnet_dt: <br/>    type: <span class=\"dargs-doc-code\">bool</span>, optional, default: <span class=\"dargs-doc-code\">True</span><hr/>Whether to use a \"Timestep\" in the skip connection</span></span><code class=\"dargs-code\">: </code><code class=\"dargs-code\">true,</code><br/><code class=\"dargs-code dargs-linebegin\">&nbsp;&nbsp;&nbsp;&nbsp;&nbsp;&nbsp;</code><span class=\"dargs-key\"><code class=\"dargs-code\">\"seed\"</code><span class=\"dargs-doc\">seed: <br/>    type: <span class=\"dargs-doc-code\">NoneType</span> | <span class=\"dargs-doc-code\">int</span>, optional<hr/>Random seed for parameter initialization of the fitting net</span></span><code class=\"dargs-code\">: </code><code class=\"dargs-code\">1,</code><br/><code class=\"dargs-code dargs-linebegin\">&nbsp;&nbsp;&nbsp;&nbsp;&nbsp;&nbsp;</code><span><code class=\"dargs-code\">\"_comment\"</code></span><code class=\"dargs-code\">: </code><code class=\"dargs-code\">\" that's all\"</code><br/><code class=\"dargs-code dargs-linebegin\">&nbsp;&nbsp;&nbsp;&nbsp;</code><code class=\"dargs-code\">},</code><br/><code class=\"dargs-code dargs-linebegin\">&nbsp;&nbsp;&nbsp;&nbsp;</code><span><code class=\"dargs-code\">\"_comment\"</code></span><code class=\"dargs-code\">: </code><code class=\"dargs-code\">\" that's all\"</code><br/><code class=\"dargs-code dargs-linebegin\">&nbsp;&nbsp;</code><code class=\"dargs-code\">},</code><br/><code class=\"dargs-code dargs-linebegin\">&nbsp;&nbsp;</code><span class=\"dargs-key\"><code class=\"dargs-code\">\"learning_rate\"</code><span class=\"dargs-doc\">learning_rate: <br/>    type: <span class=\"dargs-doc-code\">dict</span>, optional<hr/>The definitio of learning rate</span></span><code class=\"dargs-code\">: </code><code class=\"dargs-code\">{</code><br/><code class=\"dargs-code dargs-linebegin\">&nbsp;&nbsp;&nbsp;&nbsp;</code><span class=\"dargs-key\"><code class=\"dargs-code\">\"type\"</code><span class=\"dargs-doc\">type:<br/>type: <span class=\"dargs-doc-code\">str</span>, default: <span class=\"dargs-doc-code\">exp</span><hr/>The type of the learning rate.</span></span><code class=\"dargs-code\">: </code><code class=\"dargs-code\">\"exp\",</code><br/><code class=\"dargs-code dargs-linebegin\">&nbsp;&nbsp;&nbsp;&nbsp;</code><span class=\"dargs-key\"><code class=\"dargs-code\">\"decay_steps\"</code><span class=\"dargs-doc\">decay_steps: <br/>    type: <span class=\"dargs-doc-code\">int</span>, optional, default: <span class=\"dargs-doc-code\">5000</span><hr/>The learning rate is decaying every this number of training steps.</span></span><code class=\"dargs-code\">: </code><code class=\"dargs-code\">50,</code><br/><code class=\"dargs-code dargs-linebegin\">&nbsp;&nbsp;&nbsp;&nbsp;</code><span class=\"dargs-key\"><code class=\"dargs-code\">\"start_lr\"</code><span class=\"dargs-doc\">start_lr: <br/>    type: <span class=\"dargs-doc-code\">float</span>, optional, default: <span class=\"dargs-doc-code\">0.001</span><hr/>The learning rate at the start of the training.</span></span><code class=\"dargs-code\">: </code><code class=\"dargs-code\">0.001,</code><br/><code class=\"dargs-code dargs-linebegin\">&nbsp;&nbsp;&nbsp;&nbsp;</code><span class=\"dargs-key\"><code class=\"dargs-code\">\"stop_lr\"</code><span class=\"dargs-doc\">stop_lr: <br/>    type: <span class=\"dargs-doc-code\">float</span>, optional, default: <span class=\"dargs-doc-code\">1e-08</span><hr/>The desired learning rate at the end of the training.</span></span><code class=\"dargs-code\">: </code><code class=\"dargs-code\">3.51e-08,</code><br/><code class=\"dargs-code dargs-linebegin\">&nbsp;&nbsp;&nbsp;&nbsp;</code><span><code class=\"dargs-code\">\"_comment\"</code></span><code class=\"dargs-code\">: </code><code class=\"dargs-code\">\"that's all\"</code><br/><code class=\"dargs-code dargs-linebegin\">&nbsp;&nbsp;</code><code class=\"dargs-code\">},</code><br/><code class=\"dargs-code dargs-linebegin\">&nbsp;&nbsp;</code><span class=\"dargs-key\"><code class=\"dargs-code\">\"loss\"</code><span class=\"dargs-doc\">loss: <br/>    type: <span class=\"dargs-doc-code\">dict</span>, optional<hr/>The definition of loss function. The loss type should be set to <span class=\"dargs-doc-code\">tensor</span>, <span class=\"dargs-doc-code\">ener</span> or left unset.</span></span><code class=\"dargs-code\">: </code><code class=\"dargs-code\">{</code><br/><code class=\"dargs-code dargs-linebegin\">&nbsp;&nbsp;&nbsp;&nbsp;</code><span class=\"dargs-key\"><code class=\"dargs-code\">\"type\"</code><span class=\"dargs-doc\">type:<br/>type: <span class=\"dargs-doc-code\">str</span>, default: <span class=\"dargs-doc-code\">ener</span><hr/>The type of the loss. When the fitting type is <span class=\"dargs-doc-code\">ener</span>, the loss type should be set to <span class=\"dargs-doc-code\">ener</span> or left unset. When the fitting type is <span class=\"dargs-doc-code\">dipole</span> or <span class=\"dargs-doc-code\">polar</span>, the loss type should be set to <span class=\"dargs-doc-code\">tensor</span>.</span></span><code class=\"dargs-code\">: </code><code class=\"dargs-code\">\"ener\",</code><br/><code class=\"dargs-code dargs-linebegin\">&nbsp;&nbsp;&nbsp;&nbsp;</code><span class=\"dargs-key\"><code class=\"dargs-code\">\"start_pref_e\"</code><span class=\"dargs-doc\">start_pref_e: <br/>    type: <span class=\"dargs-doc-code\">float</span> | <span class=\"dargs-doc-code\">int</span>, optional, default: <span class=\"dargs-doc-code\">0.02</span><hr/>The prefactor of energy loss at the start of the training. Should be larger than or equal to 0. If set to none-zero value, the energy label should be provided by file energy.npy in each data system. If both start_pref_e and limit_pref_e are set to 0, then the energy will be ignored.</span></span><code class=\"dargs-code\">: </code><code class=\"dargs-code\">0.02,</code><br/><code class=\"dargs-code dargs-linebegin\">&nbsp;&nbsp;&nbsp;&nbsp;</code><span class=\"dargs-key\"><code class=\"dargs-code\">\"limit_pref_e\"</code><span class=\"dargs-doc\">limit_pref_e: <br/>    type: <span class=\"dargs-doc-code\">float</span> | <span class=\"dargs-doc-code\">int</span>, optional, default: <span class=\"dargs-doc-code\">1.0</span><hr/>The prefactor of energy loss at the limit of the training, Should be larger than or equal to 0. i.e. the training step goes to infinity.</span></span><code class=\"dargs-code\">: </code><code class=\"dargs-code\">1,</code><br/><code class=\"dargs-code dargs-linebegin\">&nbsp;&nbsp;&nbsp;&nbsp;</code><span class=\"dargs-key\"><code class=\"dargs-code\">\"start_pref_f\"</code><span class=\"dargs-doc\">start_pref_f: <br/>    type: <span class=\"dargs-doc-code\">float</span> | <span class=\"dargs-doc-code\">int</span>, optional, default: <span class=\"dargs-doc-code\">1000</span><hr/>The prefactor of force loss at the start of the training. Should be larger than or equal to 0. If set to none-zero value, the force label should be provided by file force.npy in each data system. If both start_pref_f and limit_pref_f are set to 0, then the force will be ignored.</span></span><code class=\"dargs-code\">: </code><code class=\"dargs-code\">1000,</code><br/><code class=\"dargs-code dargs-linebegin\">&nbsp;&nbsp;&nbsp;&nbsp;</code><span class=\"dargs-key\"><code class=\"dargs-code\">\"limit_pref_f\"</code><span class=\"dargs-doc\">limit_pref_f: <br/>    type: <span class=\"dargs-doc-code\">float</span> | <span class=\"dargs-doc-code\">int</span>, optional, default: <span class=\"dargs-doc-code\">1.0</span><hr/>The prefactor of force loss at the limit of the training, Should be larger than or equal to 0. i.e. the training step goes to infinity.</span></span><code class=\"dargs-code\">: </code><code class=\"dargs-code\">1,</code><br/><code class=\"dargs-code dargs-linebegin\">&nbsp;&nbsp;&nbsp;&nbsp;</code><span class=\"dargs-key\"><code class=\"dargs-code\">\"start_pref_v\"</code><span class=\"dargs-doc\">start_pref_v: <br/>    type: <span class=\"dargs-doc-code\">float</span> | <span class=\"dargs-doc-code\">int</span>, optional, default: <span class=\"dargs-doc-code\">0.0</span><hr/>The prefactor of virial loss at the start of the training. Should be larger than or equal to 0. If set to none-zero value, the virial label should be provided by file virial.npy in each data system. If both start_pref_v and limit_pref_v are set to 0, then the virial will be ignored.</span></span><code class=\"dargs-code\">: </code><code class=\"dargs-code\">0,</code><br/><code class=\"dargs-code dargs-linebegin\">&nbsp;&nbsp;&nbsp;&nbsp;</code><span class=\"dargs-key\"><code class=\"dargs-code\">\"limit_pref_v\"</code><span class=\"dargs-doc\">limit_pref_v: <br/>    type: <span class=\"dargs-doc-code\">float</span> | <span class=\"dargs-doc-code\">int</span>, optional, default: <span class=\"dargs-doc-code\">0.0</span><hr/>The prefactor of virial loss at the limit of the training, Should be larger than or equal to 0. i.e. the training step goes to infinity.</span></span><code class=\"dargs-code\">: </code><code class=\"dargs-code\">0,</code><br/><code class=\"dargs-code dargs-linebegin\">&nbsp;&nbsp;&nbsp;&nbsp;</code><span><code class=\"dargs-code\">\"_comment\"</code></span><code class=\"dargs-code\">: </code><code class=\"dargs-code\">\" that's all\"</code><br/><code class=\"dargs-code dargs-linebegin\">&nbsp;&nbsp;</code><code class=\"dargs-code\">},</code><br/><code class=\"dargs-code dargs-linebegin\">&nbsp;&nbsp;</code><span class=\"dargs-key\"><code class=\"dargs-code\">\"training\"</code><span class=\"dargs-doc\">training: <br/>    type: <span class=\"dargs-doc-code\">dict</span><hr/>The training options.</span></span><code class=\"dargs-code\">: </code><code class=\"dargs-code\">{</code><br/><code class=\"dargs-code dargs-linebegin\">&nbsp;&nbsp;&nbsp;&nbsp;</code><span class=\"dargs-key\"><code class=\"dargs-code\">\"training_data\"</code><span class=\"dargs-doc\">training_data: <br/>    type: <span class=\"dargs-doc-code\">dict</span>, optional<hr/>Configurations of training data.</span></span><code class=\"dargs-code\">: </code><code class=\"dargs-code\">{</code><br/><code class=\"dargs-code dargs-linebegin\">&nbsp;&nbsp;&nbsp;&nbsp;&nbsp;&nbsp;</code><span class=\"dargs-key\"><code class=\"dargs-code\">\"systems\"</code><span class=\"dargs-doc\">systems: <br/>    type: <span class=\"dargs-doc-code\">str</span> | <span class=\"dargs-doc-code\">typing.List[str]</span><hr/>The data systems for training. This key can be provided with a list that specifies the systems, or be provided with a string by which the prefix of all systems are given and the list of the systems is automatically generated.</span></span><code class=\"dargs-code\">: </code><code class=\"dargs-code\">[<br/><code class=\"dargs-code dargs-linebegin\">&nbsp;&nbsp;&nbsp;&nbsp;&nbsp;&nbsp;</code>  \"../00.data/training_data\"<br/><code class=\"dargs-code dargs-linebegin\">&nbsp;&nbsp;&nbsp;&nbsp;&nbsp;&nbsp;</code>],</code><br/><code class=\"dargs-code dargs-linebegin\">&nbsp;&nbsp;&nbsp;&nbsp;&nbsp;&nbsp;</code><span class=\"dargs-key\"><code class=\"dargs-code\">\"batch_size\"</code><span class=\"dargs-doc\">batch_size: <br/>    type: <span class=\"dargs-doc-code\">str</span> | <span class=\"dargs-doc-code\">typing.List[int]</span> | <span class=\"dargs-doc-code\">int</span>, optional, default: <span class=\"dargs-doc-code\">auto</span><hr/>This key can be <br/>- list: the length of which is the same as the <span class=\"dargs-doc-code\">systems <training/training_data/systems_></span>_. The batch size of each system is given by the elements of the list.<br/>- int: all <span class=\"dargs-doc-code\">systems <training/training_data/systems_></span>_ use the same batch size.<br/>- string \"auto\": automatically determines the batch size so that the batch_size times the number of atoms in the system is no less than 32.<br/>- string \"auto:N\": automatically determines the batch size so that the batch_size times the number of atoms in the system is no less than N.<br/>- string \"mixed:N\": the batch data will be sampled from all systems and merged into a mixed system with the batch size N. Only support the se_atten descriptor.<br/>If MPI is used, the value should be considered as the batch size per task.</span></span><code class=\"dargs-code\">: </code><code class=\"dargs-code\">\"auto\",</code><br/><code class=\"dargs-code dargs-linebegin\">&nbsp;&nbsp;&nbsp;&nbsp;&nbsp;&nbsp;</code><span><code class=\"dargs-code\">\"_comment\"</code></span><code class=\"dargs-code\">: </code><code class=\"dargs-code\">\"that's all\"</code><br/><code class=\"dargs-code dargs-linebegin\">&nbsp;&nbsp;&nbsp;&nbsp;</code><code class=\"dargs-code\">},</code><br/><code class=\"dargs-code dargs-linebegin\">&nbsp;&nbsp;&nbsp;&nbsp;</code><span class=\"dargs-key\"><code class=\"dargs-code\">\"validation_data\"</code><span class=\"dargs-doc\">validation_data: <br/>    type: <span class=\"dargs-doc-code\">NoneType</span> | <span class=\"dargs-doc-code\">dict</span>, optional, default: <span class=\"dargs-doc-code\">None</span><hr/>Configurations of validation data. Similar to that of training data, except that a <span class=\"dargs-doc-code\">numb_btch</span> argument may be configured</span></span><code class=\"dargs-code\">: </code><code class=\"dargs-code\">{</code><br/><code class=\"dargs-code dargs-linebegin\">&nbsp;&nbsp;&nbsp;&nbsp;&nbsp;&nbsp;</code><span class=\"dargs-key\"><code class=\"dargs-code\">\"systems\"</code><span class=\"dargs-doc\">systems: <br/>    type: <span class=\"dargs-doc-code\">str</span> | <span class=\"dargs-doc-code\">typing.List[str]</span><hr/>The data systems for validation. This key can be provided with a list that specifies the systems, or be provided with a string by which the prefix of all systems are given and the list of the systems is automatically generated.</span></span><code class=\"dargs-code\">: </code><code class=\"dargs-code\">[<br/><code class=\"dargs-code dargs-linebegin\">&nbsp;&nbsp;&nbsp;&nbsp;&nbsp;&nbsp;</code>  \"../00.data/validation_data\"<br/><code class=\"dargs-code dargs-linebegin\">&nbsp;&nbsp;&nbsp;&nbsp;&nbsp;&nbsp;</code>],</code><br/><code class=\"dargs-code dargs-linebegin\">&nbsp;&nbsp;&nbsp;&nbsp;&nbsp;&nbsp;</code><span class=\"dargs-key\"><code class=\"dargs-code\">\"batch_size\"</code><span class=\"dargs-doc\">batch_size: <br/>    type: <span class=\"dargs-doc-code\">str</span> | <span class=\"dargs-doc-code\">typing.List[int]</span> | <span class=\"dargs-doc-code\">int</span>, optional, default: <span class=\"dargs-doc-code\">auto</span><hr/>This key can be <br/>- list: the length of which is the same as the <span class=\"dargs-doc-code\">systems <training/validation_data/systems_></span>_. The batch size of each system is given by the elements of the list.<br/>- int: all <span class=\"dargs-doc-code\">systems <training/validation_data/systems_></span>_ use the same batch size.<br/>- string \"auto\": automatically determines the batch size so that the batch_size times the number of atoms in the system is no less than 32.<br/>- string \"auto:N\": automatically determines the batch size so that the batch_size times the number of atoms in the system is no less than N.</span></span><code class=\"dargs-code\">: </code><code class=\"dargs-code\">\"auto\",</code><br/><code class=\"dargs-code dargs-linebegin\">&nbsp;&nbsp;&nbsp;&nbsp;&nbsp;&nbsp;</code><span class=\"dargs-key\"><code class=\"dargs-code\">\"numb_btch\"</code><span class=\"dargs-doc\">numb_btch: <br/>    type: <span class=\"dargs-doc-code\">int</span>, optional, default: <span class=\"dargs-doc-code\">1</span>, alias: <i>numb_batch</i><hr/>An integer that specifies the number of batches to be sampled for each validation period.</span></span><code class=\"dargs-code\">: </code><code class=\"dargs-code\">1,</code><br/><code class=\"dargs-code dargs-linebegin\">&nbsp;&nbsp;&nbsp;&nbsp;&nbsp;&nbsp;</code><span><code class=\"dargs-code\">\"_comment\"</code></span><code class=\"dargs-code\">: </code><code class=\"dargs-code\">\"that's all\"</code><br/><code class=\"dargs-code dargs-linebegin\">&nbsp;&nbsp;&nbsp;&nbsp;</code><code class=\"dargs-code\">},</code><br/><code class=\"dargs-code dargs-linebegin\">&nbsp;&nbsp;&nbsp;&nbsp;</code><span class=\"dargs-key\"><code class=\"dargs-code\">\"numb_steps\"</code><span class=\"dargs-doc\">numb_steps: <br/>    type: <span class=\"dargs-doc-code\">int</span>, alias: <i>stop_batch</i><hr/>Number of training batch. Each training uses one batch of data.</span></span><code class=\"dargs-code\">: </code><code class=\"dargs-code\">10000,</code><br/><code class=\"dargs-code dargs-linebegin\">&nbsp;&nbsp;&nbsp;&nbsp;</code><span class=\"dargs-key\"><code class=\"dargs-code\">\"seed\"</code><span class=\"dargs-doc\">seed: <br/>    type: <span class=\"dargs-doc-code\">NoneType</span> | <span class=\"dargs-doc-code\">int</span>, optional<hr/>The random seed for getting frames from the training data set.</span></span><code class=\"dargs-code\">: </code><code class=\"dargs-code\">10,</code><br/><code class=\"dargs-code dargs-linebegin\">&nbsp;&nbsp;&nbsp;&nbsp;</code><span class=\"dargs-key\"><code class=\"dargs-code\">\"disp_file\"</code><span class=\"dargs-doc\">disp_file: <br/>    type: <span class=\"dargs-doc-code\">str</span>, optional, default: <span class=\"dargs-doc-code\">lcurve.out</span><hr/>The file for printing learning curve.</span></span><code class=\"dargs-code\">: </code><code class=\"dargs-code\">\"lcurve.out\",</code><br/><code class=\"dargs-code dargs-linebegin\">&nbsp;&nbsp;&nbsp;&nbsp;</code><span class=\"dargs-key\"><code class=\"dargs-code\">\"disp_freq\"</code><span class=\"dargs-doc\">disp_freq: <br/>    type: <span class=\"dargs-doc-code\">int</span>, optional, default: <span class=\"dargs-doc-code\">1000</span><hr/>The frequency of printing learning curve.</span></span><code class=\"dargs-code\">: </code><code class=\"dargs-code\">200,</code><br/><code class=\"dargs-code dargs-linebegin\">&nbsp;&nbsp;&nbsp;&nbsp;</code><span class=\"dargs-key\"><code class=\"dargs-code\">\"save_freq\"</code><span class=\"dargs-doc\">save_freq: <br/>    type: <span class=\"dargs-doc-code\">int</span>, optional, default: <span class=\"dargs-doc-code\">1000</span><hr/>The frequency of saving check point.</span></span><code class=\"dargs-code\">: </code><code class=\"dargs-code\">1000,</code><br/><code class=\"dargs-code dargs-linebegin\">&nbsp;&nbsp;&nbsp;&nbsp;</code><span><code class=\"dargs-code\">\"_comment\"</code></span><code class=\"dargs-code\">: </code><code class=\"dargs-code\">\"that's all\"</code><br/><code class=\"dargs-code dargs-linebegin\">&nbsp;&nbsp;</code><code class=\"dargs-code\">}</code><br/><code class=\"dargs-code dargs-linebegin\"></code><code class=\"dargs-code\">}</code><br/></div>"
      ],
      "text/plain": [
       "<IPython.core.display.HTML object>"
      ]
     },
     "metadata": {},
     "output_type": "display_data"
    }
   ],
   "source": [
    "# Show input.json\n",
    "from deepmd.utils.argcheck import gen_args\n",
    "from dargs.notebook import JSON\n",
    "\n",
    "with open(\"./DeePMD-kit_Tutorial/01.train/input.json\") as f:\n",
    "    JSON(f.read(), gen_args())"
   ]
  },
  {
   "cell_type": "markdown",
   "id": "0a4c680a-abcf-40b9-b00e-fa4615aa91b9",
   "metadata": {},
   "source": [
    "DeePMD-kit requires a `json` format file to specify parameters for training. \n",
    "\n",
    "In the model section, the parameters of embedding and fitting networks are specified.\n",
    "```json\n",
    "\"model\":{\n",
    "    \"type_map\":    [\"H\", \"C\"],                 \n",
    "    \"descriptor\":{\n",
    "        \"type\":            \"se_e2_a\",          \n",
    "        \"rcut\":            6.00,               \n",
    "        \"rcut_smth\":       0.50,               \n",
    "        \"sel\":             \"auto\",             \n",
    "        \"neuron\":          [25, 50, 100],       \n",
    "        \"resnet_dt\":       false,\n",
    "        \"axis_neuron\":     16,                  \n",
    "        \"seed\":            1,\n",
    "        \"_comment\":        \"that's all\"\n",
    "        },\n",
    "    \"fitting_net\":{\n",
    "        \"neuron\":          [240, 240, 240],    \n",
    "        \"resnet_dt\":       true,\n",
    "        \"seed\":            1,\n",
    "        \"_comment\":        \"that's all\"\n",
    "    },\n",
    "    \"_comment\":    \"that's all\"'\n",
    "},\n",
    "```\n",
    "The explanation for some of the parameters is as follows:\n",
    "\n",
    "| Parameter                | Expiation                                                    |\n",
    "| ------------------------ | ------------------------------------------------------------ |\n",
    "| type_map                 | *the* *name* *of* *each* *type* *of* *atom*                  |\n",
    "| descriptor > type        | *the* *type* *of* *descriptor*                               |\n",
    "| descriptor > rcut        | *cut-off* *radius*                                           |\n",
    "| descriptor > rcut_smth   | *where* *the* *smoothing* *starts*                           |\n",
    "| descriptor > sel         | *the* *maximum* *number* *of* *type* *i* *atoms* *in* *the* *cut-off* *radius* |\n",
    "| descriptor > neuron      | *size* *of* *the* *embedding* *neural* *network*             |\n",
    "| descriptor > axis_neuron | *the* *size* *of* *the* *submatrix* *of* *G* *(embedding* *matrix)* |\n",
    "| fitting_net > neuron     | *size* *of* *the* *fitting* *neural* *network*               |\n",
    "\n",
    "The `se_e2_a` descriptor is used to train the DP model. The item neurons set the size of the descriptors and fitting network to [25, 50, 100] and [240, 240, 240], respectively. The components in local environment to smoothly go to zero from 0.5 to 6 Å.\n",
    "\n",
    "The following are the parameters that specify the learning rate and loss function.\n",
    "```json\n",
    "    \"learning_rate\" :{\n",
    "        \"type\":                \"exp\",\n",
    "        \"decay_steps\":         50,\n",
    "        \"start_lr\":            0.001,    \n",
    "        \"stop_lr\":             3.51e-8,\n",
    "        \"_comment\":            \"that's all\"\n",
    "    },\n",
    "    \"loss\" :{\n",
    "        \"type\":                \"ener\",\n",
    "        \"start_pref_e\":        0.02,\n",
    "        \"limit_pref_e\":        1,\n",
    "        \"start_pref_f\":        1000,\n",
    "        \"limit_pref_f\":        1,\n",
    "        \"start_pref_v\":        0,\n",
    "        \"limit_pref_v\":        0,\n",
    "        \"_comment\":            \"that's all\"\n",
    "    },\n",
    "```\n",
    "In the loss function, `pref_e` increases from 0.02 to 1, and `pref_f` decreases from 1000 to 1  progressively, which means that the force term dominates at the beginning, while energy and virial terms become important at the end. This strategy is very effective and reduces the total training time. `pref_v` is set to 0 , indicating that no virial data are included in the training process. The starting learning rate, stop learning rate, and decay steps are set to 0.001, 3.51e-8, and 50, respectively. The model is trained for 10000 steps.\n",
    "\n",
    "The training parameters are given in the following\n",
    "```json\n",
    "    \"training\" : {\n",
    "        \"training_data\": {\n",
    "            \"systems\":            [\"../00.data/training_data\"],     \n",
    "            \"batch_size\":         \"auto\",                       \n",
    "            \"_comment\":           \"that's all\"\n",
    "        },\n",
    "        \"validation_data\":{\n",
    "            \"systems\":            [\"../00.data/validation_data/\"],\n",
    "            \"batch_size\":         \"auto\",               \n",
    "            \"numb_btch\":          1,\n",
    "            \"_comment\":           \"that's all\"\n",
    "        },\n",
    "        \"numb_steps\":             10000,                           \n",
    "        \"seed\":                   10,\n",
    "        \"disp_file\":              \"lcurve.out\",\n",
    "        \"disp_freq\":              200,\n",
    "        \"save_freq\":              10000,\n",
    "        },\n",
    "```"
   ]
  },
  {
   "cell_type": "markdown",
   "id": "7b0edb0f-df47-4e6c-8c37-5f32c4bd6b39",
   "metadata": {},
   "source": [
    "More detailed docs about Data conversion can be found [here](https://docs.deepmodeling.org/projects/deepmd/en/master/data/data-conv.html)"
   ]
  },
  {
   "cell_type": "markdown",
   "id": "bafe20b8-3bde-403c-ae42-b68ba5f29703",
   "metadata": {},
   "source": [
    "### Train a model\n",
    "After the training script is prepared, we can start the training with DeePMD-kit by simply running"
   ]
  },
  {
   "cell_type": "code",
   "execution_count": 24,
   "id": "e04a05a3-ccac-474b-bc24-58fbf20b9ffe",
   "metadata": {
    "scrolled": true,
    "tags": []
   },
   "outputs": [
    {
     "name": "stdout",
     "output_type": "stream",
     "text": [
      "WARNING:tensorflow:From /root/miniconda3/envs/deepmd/lib/python3.10/site-packages/tensorflow/python/compat/v2_compat.py:107: disable_resource_variables (from tensorflow.python.ops.variable_scope) is deprecated and will be removed in a future version.\n",
      "Instructions for updating:\n",
      "non-resource variables are not supported in the long term\n",
      "WARNING:root:To get the best performance, it is recommended to adjust the number of threads by setting the environment variables OMP_NUM_THREADS, TF_INTRA_OP_PARALLELISM_THREADS, and TF_INTER_OP_PARALLELISM_THREADS. See https://deepmd.rtfd.io/parallelism/ for more information.\n",
      "DEEPMD INFO    Calculate neighbor statistics... (add --skip-neighbor-stat to skip this step)\n",
      "DEEPMD INFO    training data with min nbor dist: 1.0460506586976848\n",
      "DEEPMD INFO    training data with max nbor size: [4 1]\n",
      "DEEPMD INFO     _____               _____   __  __  _____           _     _  _   \n",
      "DEEPMD INFO    |  __ \\             |  __ \\ |  \\/  ||  __ \\         | |   (_)| |  \n",
      "DEEPMD INFO    | |  | |  ___   ___ | |__) || \\  / || |  | | ______ | | __ _ | |_ \n",
      "DEEPMD INFO    | |  | | / _ \\ / _ \\|  ___/ | |\\/| || |  | ||______|| |/ /| || __|\n",
      "DEEPMD INFO    | |__| ||  __/|  __/| |     | |  | || |__| |        |   < | || |_ \n",
      "DEEPMD INFO    |_____/  \\___| \\___||_|     |_|  |_||_____/         |_|\\_\\|_| \\__|\n",
      "DEEPMD INFO    Please read and cite:\n",
      "DEEPMD INFO    Wang, Zhang, Han and E, Comput.Phys.Comm. 228, 178-184 (2018)\n",
      "DEEPMD INFO    Zeng et al, J. Chem. Phys., 159, 054801 (2023)\n",
      "DEEPMD INFO    See https://deepmd.rtfd.io/credits/ for details.\n",
      "DEEPMD INFO    installed to:         /root/miniconda3/envs/deepmd\n",
      "DEEPMD INFO    source :              v2.2.7\n",
      "DEEPMD INFO    source brach:         HEAD\n",
      "DEEPMD INFO    source commit:        839f4fe7\n",
      "DEEPMD INFO    source commit at:     2023-10-27 21:10:24 +0800\n",
      "DEEPMD INFO    build float prec:     double\n",
      "DEEPMD INFO    build variant:        cpu\n",
      "DEEPMD INFO    build with tf inc:    /root/miniconda3/envs/deepmd/lib/python3.10/site-packages/tensorflow/include;/root/miniconda3/envs/deepmd/lib/python3.10/site-packages/tensorflow/../../../../include\n",
      "DEEPMD INFO    build with tf lib:    \n",
      "DEEPMD INFO    ---Summary of the training---------------------------------------\n",
      "DEEPMD INFO    running on:           bohrium-21213-1088639\n",
      "DEEPMD INFO    computing device:     cpu:0\n",
      "DEEPMD INFO    Count of visible GPU: 0\n",
      "DEEPMD INFO    num_intra_threads:    0\n",
      "DEEPMD INFO    num_inter_threads:    0\n",
      "DEEPMD INFO    -----------------------------------------------------------------\n",
      "DEEPMD INFO    ---Summary of DataSystem: training     -----------------------------------------------\n",
      "DEEPMD INFO    found 1 system(s):\n",
      "DEEPMD INFO                                        system  natoms  bch_sz   n_bch   prob  pbc\n",
      "DEEPMD INFO                      ../00.data/training_data       5       7      23  1.000    T\n",
      "DEEPMD INFO    --------------------------------------------------------------------------------------\n",
      "DEEPMD INFO    ---Summary of DataSystem: validation   -----------------------------------------------\n",
      "DEEPMD INFO    found 1 system(s):\n",
      "DEEPMD INFO                                        system  natoms  bch_sz   n_bch   prob  pbc\n",
      "DEEPMD INFO                    ../00.data/validation_data       5       7       5  1.000    T\n",
      "DEEPMD INFO    --------------------------------------------------------------------------------------\n",
      "DEEPMD INFO    training without frame parameter\n",
      "DEEPMD INFO    data stating... (this step may take long time)\n",
      "DEEPMD INFO    built lr\n",
      "DEEPMD INFO    built network\n",
      "DEEPMD INFO    built training\n",
      "WARNING:root:To get the best performance, it is recommended to adjust the number of threads by setting the environment variables OMP_NUM_THREADS, TF_INTRA_OP_PARALLELISM_THREADS, and TF_INTER_OP_PARALLELISM_THREADS. See https://deepmd.rtfd.io/parallelism/ for more information.\n",
      "DEEPMD INFO    initialize model from scratch\n",
      "DEEPMD INFO    start training at lr 1.00e-03 (== 1.00e-03), decay_step 50, decay_rate 0.950006, final lr will be 3.51e-08\n",
      "WARNING:tensorflow:From /root/miniconda3/envs/deepmd/lib/python3.10/site-packages/deepmd/train/trainer.py:1197: py_func (from tensorflow.python.ops.script_ops) is deprecated and will be removed in a future version.\n",
      "Instructions for updating:\n",
      "tf.py_func is deprecated in TF V2. Instead, there are two\n",
      "    options available in V2.\n",
      "    - tf.py_function takes a python function which manipulates tf eager\n",
      "    tensors instead of numpy arrays. It's easy to convert a tf eager tensor to\n",
      "    an ndarray (just call tensor.numpy()) but having access to eager tensors\n",
      "    means `tf.py_function`s can use accelerators such as GPUs as well as\n",
      "    being differentiable using a gradient tape.\n",
      "    - tf.numpy_function maintains the semantics of the deprecated tf.py_func\n",
      "    (it is not differentiable, and manipulates numpy arrays). It drops the\n",
      "    stateful argument making all functions stateful.\n",
      "    \n",
      "WARNING:tensorflow:From /root/miniconda3/envs/deepmd/lib/python3.10/site-packages/deepmd/train/trainer.py:1197: py_func (from tensorflow.python.ops.script_ops) is deprecated and will be removed in a future version.\n",
      "Instructions for updating:\n",
      "tf.py_func is deprecated in TF V2. Instead, there are two\n",
      "    options available in V2.\n",
      "    - tf.py_function takes a python function which manipulates tf eager\n",
      "    tensors instead of numpy arrays. It's easy to convert a tf eager tensor to\n",
      "    an ndarray (just call tensor.numpy()) but having access to eager tensors\n",
      "    means `tf.py_function`s can use accelerators such as GPUs as well as\n",
      "    being differentiable using a gradient tape.\n",
      "    - tf.numpy_function maintains the semantics of the deprecated tf.py_func\n",
      "    (it is not differentiable, and manipulates numpy arrays). It drops the\n",
      "    stateful argument making all functions stateful.\n",
      "    \n",
      "DEEPMD INFO    batch     200 training time 17.53 s, testing time 0.05 s, total wall time 18.41 s\n",
      "DEEPMD INFO    batch     400 training time 14.96 s, testing time 0.05 s, total wall time 15.11 s\n",
      "DEEPMD INFO    batch     600 training time 15.47 s, testing time 0.05 s, total wall time 15.65 s\n",
      "DEEPMD INFO    batch     800 training time 14.25 s, testing time 0.04 s, total wall time 14.41 s\n",
      "DEEPMD INFO    batch    1000 training time 15.49 s, testing time 0.05 s, total wall time 15.65 s\n",
      "DEEPMD INFO    saved checkpoint model.ckpt\n",
      "DEEPMD INFO    batch    1200 training time 16.33 s, testing time 0.08 s, total wall time 17.33 s\n",
      "DEEPMD INFO    batch    1400 training time 14.31 s, testing time 0.05 s, total wall time 14.47 s\n",
      "DEEPMD INFO    batch    1600 training time 16.54 s, testing time 0.05 s, total wall time 16.72 s\n",
      "DEEPMD INFO    batch    1800 training time 16.90 s, testing time 0.09 s, total wall time 17.09 s\n",
      "DEEPMD INFO    batch    2000 training time 17.20 s, testing time 0.06 s, total wall time 17.37 s\n",
      "DEEPMD INFO    saved checkpoint model.ckpt\n",
      "DEEPMD INFO    batch    2200 training time 14.29 s, testing time 0.04 s, total wall time 14.83 s\n",
      "DEEPMD INFO    batch    2400 training time 13.11 s, testing time 0.04 s, total wall time 13.29 s\n",
      "DEEPMD INFO    batch    2600 training time 12.93 s, testing time 0.04 s, total wall time 13.08 s\n",
      "DEEPMD INFO    batch    2800 training time 14.58 s, testing time 0.04 s, total wall time 14.74 s\n",
      "DEEPMD INFO    batch    3000 training time 13.21 s, testing time 0.04 s, total wall time 13.35 s\n",
      "DEEPMD INFO    saved checkpoint model.ckpt\n",
      "DEEPMD INFO    batch    3200 training time 14.40 s, testing time 0.07 s, total wall time 15.14 s\n",
      "DEEPMD INFO    batch    3400 training time 13.08 s, testing time 0.04 s, total wall time 13.23 s\n",
      "DEEPMD INFO    batch    3600 training time 12.93 s, testing time 0.06 s, total wall time 13.13 s\n",
      "DEEPMD INFO    batch    3800 training time 15.23 s, testing time 0.05 s, total wall time 15.43 s\n",
      "DEEPMD INFO    batch    4000 training time 13.20 s, testing time 0.04 s, total wall time 13.35 s\n",
      "DEEPMD INFO    saved checkpoint model.ckpt\n",
      "DEEPMD INFO    batch    4200 training time 14.82 s, testing time 0.05 s, total wall time 16.06 s\n",
      "DEEPMD INFO    batch    4400 training time 14.26 s, testing time 0.05 s, total wall time 14.42 s\n",
      "DEEPMD INFO    batch    4600 training time 15.50 s, testing time 0.05 s, total wall time 15.66 s\n",
      "DEEPMD INFO    batch    4800 training time 14.12 s, testing time 0.05 s, total wall time 14.29 s\n",
      "DEEPMD INFO    batch    5000 training time 15.71 s, testing time 0.05 s, total wall time 15.88 s\n",
      "DEEPMD INFO    saved checkpoint model.ckpt\n",
      "DEEPMD INFO    batch    5200 training time 14.36 s, testing time 0.07 s, total wall time 15.40 s\n",
      "DEEPMD INFO    batch    5400 training time 15.77 s, testing time 0.05 s, total wall time 15.93 s\n",
      "DEEPMD INFO    batch    5600 training time 14.12 s, testing time 0.05 s, total wall time 14.29 s\n",
      "DEEPMD INFO    batch    5800 training time 15.53 s, testing time 0.04 s, total wall time 15.70 s\n",
      "DEEPMD INFO    batch    6000 training time 15.39 s, testing time 0.09 s, total wall time 15.58 s\n",
      "WARNING:tensorflow:From /root/miniconda3/envs/deepmd/lib/python3.10/site-packages/tensorflow/python/training/saver.py:1066: remove_checkpoint (from tensorflow.python.training.checkpoint_management) is deprecated and will be removed in a future version.\n",
      "Instructions for updating:\n",
      "Use standard file APIs to delete files with this prefix.\n",
      "WARNING:tensorflow:From /root/miniconda3/envs/deepmd/lib/python3.10/site-packages/tensorflow/python/training/saver.py:1066: remove_checkpoint (from tensorflow.python.training.checkpoint_management) is deprecated and will be removed in a future version.\n",
      "Instructions for updating:\n",
      "Use standard file APIs to delete files with this prefix.\n",
      "DEEPMD INFO    saved checkpoint model.ckpt\n",
      "DEEPMD INFO    batch    6200 training time 14.74 s, testing time 0.05 s, total wall time 15.64 s\n",
      "DEEPMD INFO    batch    6400 training time 15.24 s, testing time 0.09 s, total wall time 15.44 s\n",
      "DEEPMD INFO    batch    6600 training time 14.29 s, testing time 0.05 s, total wall time 14.48 s\n",
      "DEEPMD INFO    batch    6800 training time 15.46 s, testing time 0.09 s, total wall time 15.66 s\n",
      "DEEPMD INFO    batch    7000 training time 15.34 s, testing time 0.05 s, total wall time 15.54 s\n",
      "DEEPMD INFO    saved checkpoint model.ckpt\n",
      "DEEPMD INFO    batch    7200 training time 15.63 s, testing time 0.05 s, total wall time 16.19 s\n",
      "DEEPMD INFO    batch    7400 training time 14.71 s, testing time 0.06 s, total wall time 14.90 s\n",
      "DEEPMD INFO    batch    7600 training time 15.96 s, testing time 0.05 s, total wall time 16.12 s\n",
      "DEEPMD INFO    batch    7800 training time 19.68 s, testing time 0.06 s, total wall time 19.92 s\n",
      "DEEPMD INFO    batch    8000 training time 15.81 s, testing time 0.07 s, total wall time 16.00 s\n",
      "DEEPMD INFO    saved checkpoint model.ckpt\n",
      "DEEPMD INFO    batch    8200 training time 13.62 s, testing time 0.04 s, total wall time 14.54 s\n",
      "DEEPMD INFO    batch    8400 training time 13.23 s, testing time 0.04 s, total wall time 13.38 s\n",
      "DEEPMD INFO    batch    8600 training time 14.90 s, testing time 0.04 s, total wall time 15.08 s\n",
      "DEEPMD INFO    batch    8800 training time 13.19 s, testing time 0.04 s, total wall time 13.34 s\n",
      "DEEPMD INFO    batch    9000 training time 13.78 s, testing time 0.09 s, total wall time 14.00 s\n",
      "DEEPMD INFO    saved checkpoint model.ckpt\n",
      "DEEPMD INFO    batch    9200 training time 13.76 s, testing time 0.04 s, total wall time 14.41 s\n",
      "DEEPMD INFO    batch    9400 training time 13.06 s, testing time 0.04 s, total wall time 13.20 s\n",
      "DEEPMD INFO    batch    9600 training time 14.23 s, testing time 0.04 s, total wall time 14.42 s\n",
      "DEEPMD INFO    batch    9800 training time 13.72 s, testing time 0.05 s, total wall time 13.88 s\n",
      "DEEPMD INFO    batch   10000 training time 13.92 s, testing time 0.09 s, total wall time 14.12 s\n",
      "DEEPMD INFO    saved checkpoint model.ckpt\n",
      "DEEPMD INFO    average training time: 0.0737 s/batch (exclude first 200 batches)\n",
      "DEEPMD INFO    finished training\n",
      "DEEPMD INFO    wall time: 756.650 s\n"
     ]
    }
   ],
   "source": [
    "# ########## Time Warning: 120 secs,C32_CPU ; 13 mins ,C2_CPU ##########\n",
    "! cd DeePMD-kit_Tutorial/01.train/ && dp train input.json"
   ]
  },
  {
   "cell_type": "markdown",
   "id": "c10e0a81-ef33-49ab-ae2d-83fbd35985ac",
   "metadata": {
    "tags": []
   },
   "source": [
    "On the screen, you will see the information of the data system(s)\n",
    "\n",
    "```\n",
    "DEEPMD INFO    -----------------------------------------------------------------\n",
    "DEEPMD INFO    ---Summary of DataSystem: training     ----------------------------------\n",
    "DEEPMD INFO    found 1 system(s):\n",
    "DEEPMD INFO                                 system  natoms  bch_sz   n_bch   prob  pbc\n",
    "DEEPMD INFO               ../00.data/training_data       5       7      23  1.000    T\n",
    "DEEPMD INFO    -------------------------------------------------------------------------\n",
    "DEEPMD INFO    ---Summary of DataSystem: validation   ----------------------------------\n",
    "DEEPMD INFO    found 1 system(s):\n",
    "DEEPMD INFO                                 system  natoms  bch_sz   n_bch   prob  pbc\n",
    "DEEPMD INFO             ../00.data/validation_data       5       7       5  1.000    T\n",
    "DEEPMD INFO    -------------------------------------------------------------------------\n",
    "```\n",
    "\n",
    "and the starting and final learning rate of this training\n",
    "\n",
    "```\n",
    "DEEPMD INFO    start training at lr 1.00e-03 (== 1.00e-03), decay_step 50, decay_rate 0.950006, final lr will be 3.51e-08\n",
    "```\n",
    "\n",
    "If everything works fine, you will see, on the screen, information printed every 1000 steps, like\n",
    "\n",
    "```\n",
    "DEEPMD INFO    batch     200 training time 6.04 s, testing time 0.02 s\n",
    "DEEPMD INFO    batch     400 training time 4.80 s, testing time 0.02 s\n",
    "DEEPMD INFO    batch     600 training time 4.80 s, testing time 0.02 s\n",
    "DEEPMD INFO    batch     800 training time 4.78 s, testing time 0.02 s\n",
    "DEEPMD INFO    batch    1000 training time 4.77 s, testing time 0.02 s\n",
    "DEEPMD INFO    saved checkpoint model.ckpt\n",
    "DEEPMD INFO    batch    1200 training time 4.47 s, testing time 0.02 s\n",
    "DEEPMD INFO    batch    1400 training time 4.49 s, testing time 0.02 s\n",
    "DEEPMD INFO    batch    1600 training time 4.45 s, testing time 0.02 s\n",
    "DEEPMD INFO    batch    1800 training time 4.44 s, testing time 0.02 s\n",
    "DEEPMD INFO    batch    2000 training time 4.46 s, testing time 0.02 s\n",
    "DEEPMD INFO    saved checkpoint model.ckpt\n",
    "```\n",
    "\n",
    "They present the training and testing time counts. At the end of the 1000th batch, the model is saved in Tensorflow's checkpoint file `model.ckpt`. At the same time, the training and testing errors are presented in file `lcurve.out`. \n",
    "\n",
    "The file contains 8 columns, form left to right, are the training step, the validation loss, training loss, root mean square (RMS) validation error of energy, RMS training error of energy, RMS validation error of force, RMS training error of force and the learning rate. The RMS error (RMSE) of the energy is normalized by number of atoms in the system. \n",
    "```\n",
    "head -n 2 lcurve.out\n",
    "#  step      rmse_val    rmse_trn    rmse_e_val  rmse_e_trn    rmse_f_val  rmse_f_trn         lr\n",
    "      0      2.02e+01    1.51e+01      1.37e-01    1.41e-01      6.40e-01    4.79e-01    1.0e-03\n",
    "```\n",
    "and\n",
    "```\n",
    "$ tail -n 2 lcurve.out\n",
    "   9800      2.45e-02    4.02e-02      3.20e-04    3.88e-04      2.40e-02    3.94e-02    4.3e-08\n",
    "  10000      4.60e-02    3.76e-02      8.65e-04    5.35e-04      4.52e-02    3.69e-02    3.5e-08\n",
    "```\n",
    "Volumes 4, 5 and 6, 7 present energy and force training and testing errors, respectively. "
   ]
  },
  {
   "cell_type": "code",
   "execution_count": 31,
   "id": "4aabcec8-9058-4582-863d-00550bb05187",
   "metadata": {},
   "outputs": [
    {
     "name": "stdout",
     "output_type": "stream",
     "text": [
      "#  step      rmse_val    rmse_trn    rmse_e_val  rmse_e_trn    rmse_f_val  rmse_f_trn         lr\n",
      "      0      1.79e+01    2.26e+01      1.35e-01    1.33e-01      5.67e-01    7.15e-01    1.0e-03\n",
      "   9800      3.53e-02    2.64e-02      5.75e-04    3.01e-04      3.46e-02    2.59e-02    4.3e-08\n",
      "  10000      2.76e-02    2.25e-02      4.83e-04    1.62e-04      2.71e-02    2.21e-02    3.5e-08\n"
     ]
    }
   ],
   "source": [
    "! cd DeePMD-kit_Tutorial/01.train.finished/ && head -n 2 lcurve.out && tail -n 2 lcurve.out"
   ]
  },
  {
   "cell_type": "markdown",
   "id": "34f3de74-9b9c-4143-94c6-1b91adbfb8d4",
   "metadata": {},
   "source": [
    "The loss function can be visualized to monitor the training process."
   ]
  },
  {
   "cell_type": "code",
   "execution_count": 16,
   "id": "a7444fb4-a869-4b44-a1e3-2d74679189ed",
   "metadata": {},
   "outputs": [
    {
     "data": {
      "image/png": "[encoded data removed]",
      "text/plain": [
       "<Figure size 640x480 with 1 Axes>"
      ]
     },
     "metadata": {},
     "output_type": "display_data"
    }
   ],
   "source": [
    "import numpy as np\n",
    "import matplotlib.pyplot as plt\n",
    "import pandas as pd\n",
    "\n",
    "with open(\"./DeePMD-kit_Tutorial/01.train.finished/lcurve.out\") as f:\n",
    "    headers = f.readline().split()[1:]\n",
    "lcurve = pd.DataFrame(\n",
    "    np.loadtxt(\"./DeePMD-kit_Tutorial/01.train.finished/lcurve.out\"), columns=headers\n",
    ")\n",
    "legends = [\"rmse_e_val\", \"rmse_e_trn\", \"rmse_f_val\", \"rmse_f_trn\"]\n",
    "for legend in legends:\n",
    "    plt.loglog(lcurve[\"step\"], lcurve[legend], label=legend)\n",
    "plt.legend()\n",
    "plt.xlabel(\"Training steps\")\n",
    "plt.ylabel(\"Loss\")\n",
    "plt.show()"
   ]
  },
  {
   "cell_type": "markdown",
   "id": "8009ad0a-9902-42d3-b280-caee92cbdf10",
   "metadata": {},
   "source": [
    "### Freeze a model\n",
    "\n",
    "At the end of the training, the model parameters saved in TensorFlow's checkpoint file should be frozen as a model file that is usually ended with extension .pb. Simply execute"
   ]
  },
  {
   "cell_type": "code",
   "execution_count": 33,
   "id": "b20d368a-135c-4314-ae4c-47bf1f28c4d7",
   "metadata": {
    "scrolled": true,
    "tags": []
   },
   "outputs": [
    {
     "name": "stdout",
     "output_type": "stream",
     "text": [
      "WARNING:tensorflow:From /root/miniconda3/envs/deepmd/lib/python3.10/site-packages/tensorflow/python/compat/v2_compat.py:107: disable_resource_variables (from tensorflow.python.ops.variable_scope) is deprecated and will be removed in a future version.\n",
      "Instructions for updating:\n",
      "non-resource variables are not supported in the long term\n",
      "WARNING:root:To get the best performance, it is recommended to adjust the number of threads by setting the environment variables OMP_NUM_THREADS, TF_INTRA_OP_PARALLELISM_THREADS, and TF_INTER_OP_PARALLELISM_THREADS. See https://deepmd.rtfd.io/parallelism/ for more information.\n",
      "DEEPMD WARNING The following nodes are not in the graph: {'fitting_attr/aparam_nall', 'spin_attr/ntypes_spin'}. Skip freezeing these nodes. You may be freezing a checkpoint generated by an old version.\n",
      "DEEPMD INFO    The following nodes will be frozen: ['descrpt_attr/rcut', 'model_attr/model_version', 'o_atom_virial', 'model_attr/tmap', 'model_attr/model_type', 'o_force', 'o_energy', 'train_attr/min_nbor_dist', 'model_type', 't_mesh', 'fitting_attr/daparam', 'train_attr/training_script', 'fitting_attr/dfparam', 'o_atom_energy', 'descrpt_attr/ntypes', 'o_virial']\n",
      "WARNING:tensorflow:From /root/miniconda3/envs/deepmd/lib/python3.10/site-packages/deepmd/entrypoints/freeze.py:370: convert_variables_to_constants (from tensorflow.python.framework.graph_util_impl) is deprecated and will be removed in a future version.\n",
      "Instructions for updating:\n",
      "Use `tf.compat.v1.graph_util.convert_variables_to_constants`\n",
      "WARNING:tensorflow:From /root/miniconda3/envs/deepmd/lib/python3.10/site-packages/deepmd/entrypoints/freeze.py:370: convert_variables_to_constants (from tensorflow.python.framework.graph_util_impl) is deprecated and will be removed in a future version.\n",
      "Instructions for updating:\n",
      "Use `tf.compat.v1.graph_util.convert_variables_to_constants`\n",
      "WARNING:tensorflow:From /root/miniconda3/envs/deepmd/lib/python3.10/site-packages/tensorflow/python/framework/convert_to_constants.py:925: extract_sub_graph (from tensorflow.python.framework.graph_util_impl) is deprecated and will be removed in a future version.\n",
      "Instructions for updating:\n",
      "Use `tf.compat.v1.graph_util.extract_sub_graph`\n",
      "WARNING:tensorflow:From /root/miniconda3/envs/deepmd/lib/python3.10/site-packages/tensorflow/python/framework/convert_to_constants.py:925: extract_sub_graph (from tensorflow.python.framework.graph_util_impl) is deprecated and will be removed in a future version.\n",
      "Instructions for updating:\n",
      "Use `tf.compat.v1.graph_util.extract_sub_graph`\n",
      "DEEPMD INFO    1222 ops in the final graph.\n"
     ]
    }
   ],
   "source": [
    "## Navigate to the DeePMD-kit_Tutorial/01.train/ Directory to Freeze the Model\n",
    "! cd DeePMD-kit_Tutorial/01.train.finished/ && dp freeze -o graph.pb"
   ]
  },
  {
   "cell_type": "markdown",
   "id": "3b23f3c9-5809-4a65-9126-f9e6d2f3a10b",
   "metadata": {},
   "source": [
    "and it will output a model file named `graph.pb` in the current directory. "
   ]
  },
  {
   "cell_type": "markdown",
   "id": "3de9a2d0",
   "metadata": {},
   "source": [
    "### Compress a model\n",
    "\n"
   ]
  },
  {
   "cell_type": "markdown",
   "id": "8089fe4d",
   "metadata": {},
   "source": [
    "To enhance computational efficiency with DP models, compression significantly accelerates DP-based calculations and reduces memory usage. We can compress the model by running:"
   ]
  },
  {
   "cell_type": "code",
   "execution_count": 34,
   "id": "bb71bdd0",
   "metadata": {},
   "outputs": [
    {
     "name": "stdout",
     "output_type": "stream",
     "text": [
      "WARNING:tensorflow:From /root/miniconda3/envs/deepmd/lib/python3.10/site-packages/tensorflow/python/compat/v2_compat.py:107: disable_resource_variables (from tensorflow.python.ops.variable_scope) is deprecated and will be removed in a future version.\n",
      "Instructions for updating:\n",
      "non-resource variables are not supported in the long term\n",
      "WARNING:root:To get the best performance, it is recommended to adjust the number of threads by setting the environment variables OMP_NUM_THREADS, TF_INTRA_OP_PARALLELISM_THREADS, and TF_INTER_OP_PARALLELISM_THREADS. See https://deepmd.rtfd.io/parallelism/ for more information.\n",
      "DEEPMD INFO    \n",
      "\n",
      "\n",
      "DEEPMD INFO    stage 1: compress the model\n",
      "DEEPMD INFO     _____               _____   __  __  _____           _     _  _   \n",
      "DEEPMD INFO    |  __ \\             |  __ \\ |  \\/  ||  __ \\         | |   (_)| |  \n",
      "DEEPMD INFO    | |  | |  ___   ___ | |__) || \\  / || |  | | ______ | | __ _ | |_ \n",
      "DEEPMD INFO    | |  | | / _ \\ / _ \\|  ___/ | |\\/| || |  | ||______|| |/ /| || __|\n",
      "DEEPMD INFO    | |__| ||  __/|  __/| |     | |  | || |__| |        |   < | || |_ \n",
      "DEEPMD INFO    |_____/  \\___| \\___||_|     |_|  |_||_____/         |_|\\_\\|_| \\__|\n",
      "DEEPMD INFO    Please read and cite:\n",
      "DEEPMD INFO    Wang, Zhang, Han and E, Comput.Phys.Comm. 228, 178-184 (2018)\n",
      "DEEPMD INFO    Zeng et al, J. Chem. Phys., 159, 054801 (2023)\n",
      "DEEPMD INFO    See https://deepmd.rtfd.io/credits/ for details.\n",
      "DEEPMD INFO    installed to:         /root/miniconda3/envs/deepmd\n",
      "DEEPMD INFO    source :              v2.2.7\n",
      "DEEPMD INFO    source brach:         HEAD\n",
      "DEEPMD INFO    source commit:        839f4fe7\n",
      "DEEPMD INFO    source commit at:     2023-10-27 21:10:24 +0800\n",
      "DEEPMD INFO    build float prec:     double\n",
      "DEEPMD INFO    build variant:        cpu\n",
      "DEEPMD INFO    build with tf inc:    /root/miniconda3/envs/deepmd/lib/python3.10/site-packages/tensorflow/include;/root/miniconda3/envs/deepmd/lib/python3.10/site-packages/tensorflow/../../../../include\n",
      "DEEPMD INFO    build with tf lib:    \n",
      "DEEPMD INFO    ---Summary of the training---------------------------------------\n",
      "DEEPMD INFO    running on:           bohrium-21213-1088639\n",
      "DEEPMD INFO    computing device:     cpu:0\n",
      "DEEPMD INFO    Count of visible GPU: 0\n",
      "DEEPMD INFO    num_intra_threads:    0\n",
      "DEEPMD INFO    num_inter_threads:    0\n",
      "DEEPMD INFO    -----------------------------------------------------------------\n",
      "DEEPMD INFO    training without frame parameter\n",
      "DEEPMD INFO    training data with lower boundary: [-0.92929175 -0.99957951]\n",
      "DEEPMD INFO    training data with upper boundary: [1.97058099 1.10195361]\n",
      "DEEPMD INFO    built lr\n",
      "DEEPMD INFO    built network\n",
      "DEEPMD INFO    built training\n",
      "WARNING:root:To get the best performance, it is recommended to adjust the number of threads by setting the environment variables OMP_NUM_THREADS, TF_INTRA_OP_PARALLELISM_THREADS, and TF_INTER_OP_PARALLELISM_THREADS. See https://deepmd.rtfd.io/parallelism/ for more information.\n",
      "DEEPMD INFO    initialize model from scratch\n",
      "DEEPMD INFO    finished compressing\n",
      "DEEPMD INFO    \n",
      "\n",
      "\n",
      "DEEPMD INFO    stage 2: freeze the model\n",
      "DEEPMD WARNING The following nodes are not in the graph: {'spin_attr/ntypes_spin', 'fitting_attr/aparam_nall'}. Skip freezeing these nodes. You may be freezing a checkpoint generated by an old version.\n",
      "DEEPMD INFO    The following nodes will be frozen: ['train_attr/min_nbor_dist', 'o_energy', 'descrpt_attr/rcut', 'o_force', 'model_type', 'fitting_attr/daparam', 'model_attr/tmap', 'o_atom_energy', 'descrpt_attr/ntypes', 'o_virial', 't_mesh', 'model_attr/model_type', 'fitting_attr/dfparam', 'o_atom_virial', 'train_attr/training_script', 'model_attr/model_version']\n",
      "WARNING:tensorflow:From /root/miniconda3/envs/deepmd/lib/python3.10/site-packages/deepmd/entrypoints/freeze.py:370: convert_variables_to_constants (from tensorflow.python.framework.graph_util_impl) is deprecated and will be removed in a future version.\n",
      "Instructions for updating:\n",
      "Use `tf.compat.v1.graph_util.convert_variables_to_constants`\n",
      "WARNING:tensorflow:From /root/miniconda3/envs/deepmd/lib/python3.10/site-packages/deepmd/entrypoints/freeze.py:370: convert_variables_to_constants (from tensorflow.python.framework.graph_util_impl) is deprecated and will be removed in a future version.\n",
      "Instructions for updating:\n",
      "Use `tf.compat.v1.graph_util.convert_variables_to_constants`\n",
      "WARNING:tensorflow:From /root/miniconda3/envs/deepmd/lib/python3.10/site-packages/tensorflow/python/framework/convert_to_constants.py:925: extract_sub_graph (from tensorflow.python.framework.graph_util_impl) is deprecated and will be removed in a future version.\n",
      "Instructions for updating:\n",
      "Use `tf.compat.v1.graph_util.extract_sub_graph`\n",
      "WARNING:tensorflow:From /root/miniconda3/envs/deepmd/lib/python3.10/site-packages/tensorflow/python/framework/convert_to_constants.py:925: extract_sub_graph (from tensorflow.python.framework.graph_util_impl) is deprecated and will be removed in a future version.\n",
      "Instructions for updating:\n",
      "Use `tf.compat.v1.graph_util.extract_sub_graph`\n",
      "DEEPMD INFO    858 ops in the final graph.\n"
     ]
    }
   ],
   "source": [
    "## Navigate to the DeePMD-kit_Tutorial/01.train/ Directory to Compress the Model\n",
    "! cd DeePMD-kit_Tutorial/01.train.finished/ && dp compress -i graph.pb -o compress.pb"
   ]
  },
  {
   "cell_type": "markdown",
   "id": "2882c201-0e85-46d0-94f8-e055a540b6fb",
   "metadata": {},
   "source": [
    "### Test a model\n",
    "\n",
    "We can check the quality of the trained model by running\n"
   ]
  },
  {
   "cell_type": "code",
   "execution_count": 35,
   "id": "5d201246-b110-4e63-a09b-ad7308bc1367",
   "metadata": {
    "scrolled": true,
    "tags": []
   },
   "outputs": [
    {
     "name": "stdout",
     "output_type": "stream",
     "text": [
      "WARNING:tensorflow:From /root/miniconda3/envs/deepmd/lib/python3.10/site-packages/tensorflow/python/compat/v2_compat.py:107: disable_resource_variables (from tensorflow.python.ops.variable_scope) is deprecated and will be removed in a future version.\n",
      "Instructions for updating:\n",
      "non-resource variables are not supported in the long term\n",
      "WARNING:root:To get the best performance, it is recommended to adjust the number of threads by setting the environment variables OMP_NUM_THREADS, TF_INTRA_OP_PARALLELISM_THREADS, and TF_INTER_OP_PARALLELISM_THREADS. See https://deepmd.rtfd.io/parallelism/ for more information.\n",
      "WARNING:tensorflow:From /root/miniconda3/envs/deepmd/lib/python3.10/site-packages/deepmd/utils/batch_size.py:62: is_gpu_available (from tensorflow.python.framework.test_util) is deprecated and will be removed in a future version.\n",
      "Instructions for updating:\n",
      "Use `tf.config.list_physical_devices('GPU')` instead.\n",
      "WARNING:tensorflow:From /root/miniconda3/envs/deepmd/lib/python3.10/site-packages/deepmd/utils/batch_size.py:62: is_gpu_available (from tensorflow.python.framework.test_util) is deprecated and will be removed in a future version.\n",
      "Instructions for updating:\n",
      "Use `tf.config.list_physical_devices('GPU')` instead.\n",
      "DEEPMD WARNING You can use the environment variable DP_INFER_BATCH_SIZE tocontrol the inference batch size (nframes * natoms). The default value is 1024.\n",
      "DEEPMD INFO    # ---------------output of dp test--------------- \n",
      "DEEPMD INFO    # testing system : ../00.data/validation_data\n",
      "DEEPMD INFO    # number of test data : 40 \n",
      "DEEPMD INFO    Energy MAE         : 1.473845e-03 eV\n",
      "DEEPMD INFO    Energy RMSE        : 2.007936e-03 eV\n",
      "DEEPMD INFO    Energy MAE/Natoms  : 2.947689e-04 eV\n",
      "DEEPMD INFO    Energy RMSE/Natoms : 4.015871e-04 eV\n",
      "DEEPMD INFO    Force  MAE         : 2.146239e-02 eV/A\n",
      "DEEPMD INFO    Force  RMSE        : 2.748797e-02 eV/A\n",
      "DEEPMD INFO    Virial MAE         : 2.879183e-02 eV\n",
      "DEEPMD INFO    Virial RMSE        : 3.817983e-02 eV\n",
      "DEEPMD INFO    Virial MAE/Natoms  : 5.758366e-03 eV\n",
      "DEEPMD INFO    Virial RMSE/Natoms : 7.635965e-03 eV\n",
      "DEEPMD INFO    # ----------------------------------------------- \n"
     ]
    }
   ],
   "source": [
    "! cd DeePMD-kit_Tutorial/01.train.finished/ && dp test -m graph.pb -s ../00.data/validation_data"
   ]
  },
  {
   "cell_type": "markdown",
   "id": "7f48e0a9-644f-4588-b9f3-cc115851a1ed",
   "metadata": {},
   "source": [
    "The correlation between predicted data and original data can also be calculated."
   ]
  },
  {
   "cell_type": "code",
   "execution_count": 36,
   "id": "be03c8da-e4f9-439d-bb22-800b651a7737",
   "metadata": {},
   "outputs": [
    {
     "name": "stdout",
     "output_type": "stream",
     "text": [
      "WARNING:tensorflow:From /root/miniconda3/envs/deepmd/lib/python3.10/site-packages/tensorflow/python/compat/v2_compat.py:107: disable_resource_variables (from tensorflow.python.ops.variable_scope) is deprecated and will be removed in a future version.\n",
      "Instructions for updating:\n",
      "non-resource variables are not supported in the long term\n"
     ]
    },
    {
     "name": "stderr",
     "output_type": "stream",
     "text": [
      "WARNING:root:To get the best performance, it is recommended to adjust the number of threads by setting the environment variables OMP_NUM_THREADS, TF_INTRA_OP_PARALLELISM_THREADS, and TF_INTER_OP_PARALLELISM_THREADS. See https://deepmd.rtfd.io/parallelism/ for more information.\n"
     ]
    },
    {
     "name": "stdout",
     "output_type": "stream",
     "text": [
      "WARNING:tensorflow:From /root/miniconda3/envs/deepmd/lib/python3.10/site-packages/deepmd/utils/batch_size.py:62: is_gpu_available (from tensorflow.python.framework.test_util) is deprecated and will be removed in a future version.\n",
      "Instructions for updating:\n",
      "Use `tf.config.list_physical_devices('GPU')` instead.\n"
     ]
    },
    {
     "name": "stderr",
     "output_type": "stream",
     "text": [
      "2024-03-24 23:05:17.177887: I tensorflow/core/platform/cpu_feature_guard.cc:193] This TensorFlow binary is optimized with oneAPI Deep Neural Network Library (oneDNN) to use the following CPU instructions in performance-critical operations:  SSE4.1 SSE4.2 AVX AVX2 AVX512F FMA\n",
      "To enable them in other operations, rebuild TensorFlow with the appropriate compiler flags.\n",
      "2024-03-24 23:05:17.179243: I tensorflow/core/common_runtime/process_util.cc:146] Creating new thread pool with default inter op setting: 2. Tune using inter_op_parallelism_threads for best performance.\n",
      "2024-03-24 23:05:17.197330: I tensorflow/compiler/mlir/mlir_graph_optimization_pass.cc:354] MLIR V1 optimization pass is not enabled\n",
      "WARNING:tensorflow:From /root/miniconda3/envs/deepmd/lib/python3.10/site-packages/deepmd/utils/batch_size.py:62: is_gpu_available (from tensorflow.python.framework.test_util) is deprecated and will be removed in a future version.\n",
      "Instructions for updating:\n",
      "Use `tf.config.list_physical_devices('GPU')` instead.\n",
      "WARNING:deepmd.utils.batch_size:You can use the environment variable DP_INFER_BATCH_SIZE tocontrol the inference batch size (nframes * natoms). The default value is 1024.\n"
     ]
    }
   ],
   "source": [
    "import dpdata\n",
    "\n",
    "training_systems = dpdata.LabeledSystem(\n",
    "    \"./DeePMD-kit_Tutorial/00.data/training_data\", fmt=\"deepmd/npy\"\n",
    ")\n",
    "predict = training_systems.predict(\"./DeePMD-kit_Tutorial/01.train.finished/graph.pb\")"
   ]
  },
  {
   "cell_type": "code",
   "execution_count": 37,
   "id": "b4005a62-8bf2-4aaf-8865-20ea303ea0f2",
   "metadata": {},
   "outputs": [
    {
     "data": {
      "text/plain": [
       "[]"
      ]
     },
     "execution_count": 37,
     "metadata": {},
     "output_type": "execute_result"
    },
    {
     "data": {
      "image/png": "[encoded data removed]",
      "text/plain": [
       "<Figure size 640x480 with 1 Axes>"
      ]
     },
     "metadata": {},
     "output_type": "display_data"
    }
   ],
   "source": [
    "import matplotlib.pyplot as plt\n",
    "import numpy as np\n",
    "\n",
    "plt.scatter(training_systems[\"energies\"], predict[\"energies\"])\n",
    "\n",
    "x_range = np.linspace(plt.xlim()[0], plt.xlim()[1])\n",
    "\n",
    "plt.plot(x_range, x_range, \"r--\", linewidth=0.25)\n",
    "plt.xlabel(\"Energy of DFT\")\n",
    "plt.ylabel(\"Energy predicted by deep potential\")\n",
    "plt.plot()"
   ]
  },
  {
   "cell_type": "markdown",
   "id": "fffaad23-53a6-47dd-8d91-9beb68d1212b",
   "metadata": {},
   "source": [
    "### Run MD with LAMMPS\n",
    "\n",
    "The model can drive molecular dynamics in LAMMPS. \n"
   ]
  },
  {
   "cell_type": "code",
   "execution_count": 38,
   "id": "d0ceac75-9753-4ae8-b954-c2cc6d005e46",
   "metadata": {},
   "outputs": [
    {
     "name": "stdout",
     "output_type": "stream",
     "text": [
      "DeePMD-kit_Tutorial\n",
      "\u001b[01;34m.\u001b[0m\n",
      "├── \u001b[01;32mch4.dump\u001b[0m\n",
      "├── \u001b[01;32mconf.lmp\u001b[0m\n",
      "├── \u001b[01;32mgraph.pb\u001b[0m\n",
      "├── \u001b[01;32min.lammps\u001b[0m\n",
      "└── \u001b[00mlog.lammps\u001b[0m\n",
      "\n",
      "0 directories, 5 files\n"
     ]
    }
   ],
   "source": [
    "! ls\n",
    "! cd ./DeePMD-kit_Tutorial/02.lmp && cp ../01.train.finished/graph.pb ./ && tree -L 1"
   ]
  },
  {
   "cell_type": "markdown",
   "id": "c794572f-7e9c-42f7-b78a-4d82bd3f3118",
   "metadata": {},
   "source": [
    "Here `conf.lmp` gives the initial configuration of a gas phase methane MD simulation, and the file `in.lammps` is the LAMMPS input script. One may check in.lammps and finds that it is a rather standard LAMMPS input file for a MD simulation, with only two exception lines:\n",
    "```\n",
    "pair_style  deepmd graph.pb\n",
    "pair_coeff  * *\n",
    "```\n",
    "where the pair style deepmd is invoked and the model file `graph.pb` is provided, which means the atomic interaction will be computed by the DP model that is stored in the file `graph.pb`. \n",
    "\n",
    "In an environment with a compatibable version of LAMMPS, the deep potential molecular dynamics can be performed via \n",
    "\n",
    "```bash\n",
    "lmp -i input.lammps\n",
    "```"
   ]
  },
  {
   "cell_type": "code",
   "execution_count": 39,
   "id": "f4501e9c-541c-431d-8847-d0d9eecfb0e0",
   "metadata": {
    "scrolled": true
   },
   "outputs": [
    {
     "name": "stdout",
     "output_type": "stream",
     "text": [
      "LAMMPS (2 Aug 2023 - Update 1)\n",
      "OMP_NUM_THREADS environment is not set. Defaulting to 1 thread. (src/comm.cpp:98)\n",
      "  using 1 OpenMP thread(s) per MPI task\n",
      "Loaded 1 plugins from /root/miniconda3/envs/deepmd/lib/deepmd_lmp\n",
      "Reading data file ...\n",
      "  triclinic box = (0 0 0) to (10.114259 10.263124 10.216793) with tilt (0.036749877 0.13833062 -0.056322169)\n",
      "  1 by 1 by 1 MPI processor grid\n",
      "  reading atoms ...\n",
      "  5 atoms\n",
      "  read_data CPU = 0.002 seconds\n",
      "DeePMD-kit WARNING: Environmental variable OMP_NUM_THREADS is not set. Tune OMP_NUM_THREADS for the best performance. See https://deepmd.rtfd.io/parallelism/ for more information.\n",
      "Summary of lammps deepmd module ...\n",
      "  >>> Info of deepmd-kit:\n",
      "  installed to:       /root/miniconda3/envs/deepmd\n",
      "  source:             v2.2.7\n",
      "  source branch:       HEAD\n",
      "  source commit:      839f4fe7\n",
      "  source commit at:   2023-10-27 21:10:24 +0800\n",
      "  surpport model ver.:1.1 \n",
      "  build variant:      cpu\n",
      "  build with tf inc:  /root/miniconda3/envs/deepmd/include;/root/miniconda3/envs/deepmd/include\n",
      "  build with tf lib:  /root/miniconda3/envs/deepmd/lib/libtensorflow_cc.so\n",
      "  set tf intra_op_parallelism_threads: 0\n",
      "  set tf inter_op_parallelism_threads: 0\n",
      "  >>> Info of lammps module:\n",
      "  use deepmd-kit at:  /root/miniconda3/envs/deepmdDeePMD-kit WARNING: Environmental variable OMP_NUM_THREADS is not set. Tune OMP_NUM_THREADS for the best performance. See https://deepmd.rtfd.io/parallelism/ for more information.\n",
      "2024-03-24 23:05:49.768736: I tensorflow/core/platform/cpu_feature_guard.cc:193] This TensorFlow binary is optimized with oneAPI Deep Neural Network Library (oneDNN) to use the following CPU instructions in performance-critical operations:  SSE4.1 SSE4.2 AVX AVX2 AVX512F FMA\n",
      "To enable them in other operations, rebuild TensorFlow with the appropriate compiler flags.\n",
      "2024-03-24 23:05:49.770401: I tensorflow/core/common_runtime/process_util.cc:146] Creating new thread pool with default inter op setting: 2. Tune using inter_op_parallelism_threads for best performance.\n",
      "2024-03-24 23:05:49.817983: I tensorflow/compiler/mlir/mlir_graph_optimization_pass.cc:354] MLIR V1 optimization pass is not enabled\n",
      "INVALID_ARGUMENT: Tensor spin_attr/ntypes_spin:0, specified in either feed_devices or fetch_devices was not found in the Graph\n",
      "  >>> Info of model(s):\n",
      "  using   1 model(s): graph.pb \n",
      "  rcut in model:      6\n",
      "  ntypes in model:    2\n",
      "\n",
      "CITE-CITE-CITE-CITE-CITE-CITE-CITE-CITE-CITE-CITE-CITE-CITE-CITE\n",
      "\n",
      "Your simulation uses code contributions which should be cited:\n",
      "- USER-DEEPMD package:\n",
      "The log file lists these citations in BibTeX format.\n",
      "\n",
      "CITE-CITE-CITE-CITE-CITE-CITE-CITE-CITE-CITE-CITE-CITE-CITE-CITE\n",
      "\n",
      "Generated 0 of 1 mixed pair_coeff terms from geometric mixing rule\n",
      "Neighbor list info ...\n",
      "  update: every = 10 steps, delay = 0 steps, check = no\n",
      "  max neighbors/atom: 2000, page size: 100000\n",
      "  master list distance cutoff = 7\n",
      "  ghost atom cutoff = 7\n",
      "  binsize = 3.5, bins = 3 3 3\n",
      "  1 neighbor lists, perpetual/occasional/extra = 1 0 0\n",
      "  (1) pair deepmd, perpetual\n",
      "      attributes: full, newton on\n",
      "      pair build: full/bin/atomonly\n",
      "      stencil: full/bin/3d\n",
      "      bin: standard\n",
      "Setting up Verlet run ...\n",
      "  Unit style    : metal\n",
      "  Current step  : 0\n",
      "  Time step     : 0.001\n",
      "Per MPI rank memory allocation (min/avg/max) = 2.559 | 2.559 | 2.559 Mbytes\n",
      "   Step         PotEng         KinEng         TotEng          Temp          Press          Volume    \n",
      "         0  -219.77409      0.025852029   -219.74824      50            -799.80566      1060.5429    \n",
      "       100  -219.77101      0.02250472    -219.7485       43.526023     -563.15562      1060.5429    \n",
      "       200  -219.77525      0.025722761   -219.74953      49.749984     -55.768826      1060.5429    \n",
      "       300  -219.78111      0.030123111   -219.75098      58.260632      415.50143      1060.5429    \n",
      "       400  -219.78545      0.03264184    -219.7528       63.132067      724.77655      1060.5429    \n",
      "       500  -219.7897       0.034591934   -219.75511      66.903712      664.01323      1060.5429    \n",
      "       600  -219.78944      0.031599794   -219.75784      61.116661      307.82983      1060.5429    \n",
      "       700  -219.78389      0.023121639   -219.76076      44.719197     -166.66606      1060.5429    \n",
      "       800  -219.77712      0.013122374   -219.764        25.379775     -493.10259      1060.5429    \n",
      "       900  -219.7791       0.011293959   -219.76781      21.843468     -609.86395      1060.5429    \n",
      "      1000  -219.78712      0.01531002    -219.77181      29.610866     -422.5828       1060.5429    \n",
      "      1100  -219.7939       0.018709632   -219.77519      36.186003     -61.443156      1060.5429    \n",
      "      1200  -219.79395      0.016606919   -219.77734      32.11918       331.62678      1060.5429    \n",
      "      1300  -219.79132      0.012642575   -219.77868      24.451803      505.6361       1060.5429    \n",
      "      1400  -219.79314      0.013255468   -219.77989      25.637191      381.73541      1060.5429    \n",
      "      1500  -219.79509      0.014397006   -219.78069      27.845022      48.696022      1060.5429    \n",
      "      1600  -219.79313      0.012485864   -219.78064      24.148711     -302.67659      1060.5429    \n",
      "      1700  -219.78841      0.0085717658  -219.77983      16.578516     -476.08062      1060.5429    \n",
      "      1800  -219.78663      0.0081557171  -219.77847      15.773843     -407.83792      1060.5429    \n",
      "      1900  -219.78715      0.010996426   -219.77615      21.268013     -98.699573      1060.5429    \n",
      "      2000  -219.78836      0.016278673   -219.77209      31.484324      293.02315      1060.5429    \n",
      "      2100  -219.78819      0.022161035   -219.76603      42.861306      587.40225      1060.5429    \n",
      "      2200  -219.79165      0.031838471   -219.75981      61.578284      543.58893      1060.5429    \n",
      "      2300  -219.79343      0.038239208   -219.75519      73.957846      104.54643      1060.5429    \n",
      "      2400  -219.78301      0.031060153   -219.75195      60.072951     -293.72903      1060.5429    \n",
      "      2500  -219.77209      0.022352657   -219.74974      43.231919     -606.61353      1060.5429    \n",
      "      2600  -219.76604      0.017305685   -219.74873      33.47065      -623.66583      1060.5429    \n",
      "      2700  -219.77552      0.026563069   -219.74895      51.375211     -332.34033      1060.5429    \n",
      "      2800  -219.78594      0.0362724     -219.74967      70.153875      120.73427      1060.5429    \n",
      "      2900  -219.78868      0.038558744   -219.75012      74.575856      542.93567      1060.5429    \n",
      "      3000  -219.78351      0.03281317    -219.75069      63.463433      746.24646      1060.5429    \n",
      "      3100  -219.78106      0.028937414   -219.75212      55.967395      583.87016      1060.5429    \n",
      "      3200  -219.77929      0.025275432   -219.75402      48.884814      128.24387      1060.5429    \n",
      "      3300  -219.77781      0.022017978   -219.75579      42.584622     -395.55332      1060.5429    \n",
      "      3400  -219.77696      0.019305132   -219.75765      37.33775      -679.74745      1060.5429    \n",
      "      3500  -219.78369      0.023714356   -219.75997      45.86556      -656.9891       1060.5429    \n",
      "      3600  -219.79244      0.030071312   -219.76237      58.160448     -354.34542      1060.5429    \n",
      "      3700  -219.79168      0.027557568   -219.76412      53.298657      199.00964      1060.5429    \n",
      "      3800  -219.78639      0.021137515   -219.76525      40.881734      596.54224      1060.5429    \n",
      "      3900  -219.77923      0.012972221   -219.76626      25.089367      713.41996      1060.5429    \n",
      "      4000  -219.78185      0.014202505   -219.76765      27.46884       430.83529      1060.5429    \n",
      "      4100  -219.78477      0.016041208   -219.76872      31.025047     -28.605377      1060.5429    \n",
      "      4200  -219.78545      0.016332231   -219.76912      31.587909     -457.5328       1060.5429    \n",
      "      4300  -219.78602      0.016882726   -219.76914      32.652612     -608.55966      1060.5429    \n",
      "      4400  -219.78949      0.020680419   -219.76881      39.99767      -456.72943      1060.5429    \n",
      "      4500  -219.79121      0.023411938   -219.7678       45.280658     -79.406734      1060.5429    \n",
      "      4600  -219.7882       0.022574198   -219.76562      43.660398      414.11955      1060.5429    \n",
      "      4700  -219.78521      0.022736692   -219.76248      43.974676      663.73939      1060.5429    \n",
      "      4800  -219.7834       0.025050214   -219.75835      48.449222      598.39611      1060.5429    \n",
      "      4900  -219.78291      0.030199797   -219.75271      58.408949      203.75805      1060.5429    \n",
      "      5000  -219.77611      0.030245158   -219.74586      58.496682     -300.80549      1060.5429    \n",
      "Loop time of 38.8363 on 1 procs for 5000 steps with 5 atoms\n",
      "\n",
      "Performance: 11.124 ns/day, 2.158 hours/ns, 128.746 timesteps/s, 643.728 atom-step/s\n",
      "104.3% CPU use with 1 MPI tasks x 1 OpenMP threads\n",
      "\n",
      "MPI task timing breakdown:\n",
      "Section |  min time  |  avg time  |  max time  |%varavg| %total\n",
      "---------------------------------------------------------------\n",
      "Pair    | 38.703     | 38.703     | 38.703     |   0.0 | 99.66\n",
      "Neigh   | 0.0079815  | 0.0079815  | 0.0079815  |   0.0 |  0.02\n",
      "Comm    | 0.0334     | 0.0334     | 0.0334     |   0.0 |  0.09\n",
      "Output  | 0.0065195  | 0.0065195  | 0.0065195  |   0.0 |  0.02\n",
      "Modify  | 0.070599   | 0.070599   | 0.070599   |   0.0 |  0.18\n",
      "Other   |            | 0.01491    |            |       |  0.04\n",
      "\n",
      "Nlocal:              5 ave           5 max           5 min\n",
      "Histogram: 1 0 0 0 0 0 0 0 0 0\n",
      "Nghost:            130 ave         130 max         130 min\n",
      "Histogram: 1 0 0 0 0 0 0 0 0 0\n",
      "Neighs:              0 ave           0 max           0 min\n",
      "Histogram: 1 0 0 0 0 0 0 0 0 0\n",
      "FullNghs:           20 ave          20 max          20 min\n",
      "Histogram: 1 0 0 0 0 0 0 0 0 0\n",
      "\n",
      "Total # of neighbors = 20\n",
      "Ave neighs/atom = 4\n",
      "Neighbor list builds = 500\n",
      "Dangerous builds not checked\n",
      "Total wall time: 0:00:39\n"
     ]
    }
   ],
   "source": [
    "! cd ./DeePMD-kit_Tutorial/02.lmp && lmp -i in.lammps"
   ]
  }
 ],
 "metadata": {
  "kernelspec": {
   "display_name": "Python 3 (ipykernel)",
   "language": "python",
   "name": "python3"
  },
  "language_info": {
   "codemirror_mode": {
    "name": "ipython",
    "version": 3
   },
   "file_extension": ".py",
   "mimetype": "text/x-python",
   "name": "python",
   "nbconvert_exporter": "python",
   "pygments_lexer": "ipython3",
   "version": "3.10.13"
  }
 },
 "nbformat": 4,
 "nbformat_minor": 5
}
